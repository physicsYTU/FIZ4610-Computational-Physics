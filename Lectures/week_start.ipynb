{
  "nbformat": 4,
  "nbformat_minor": 0,
  "metadata": {
    "colab": {
      "name": "hello.ipynb",
      "provenance": [],
      "toc_visible": true,
      "authorship_tag": "ABX9TyNQXzN3B5LdX8VUHljl1Gb0",
      "include_colab_link": true
    },
    "kernelspec": {
      "name": "python3",
      "display_name": "Python 3"
    },
    "language_info": {
      "name": "python"
    }
  },
  "cells": [
    {
      "cell_type": "markdown",
      "metadata": {
        "id": "view-in-github",
        "colab_type": "text"
      },
      "source": [
        "<a href=\"https://colab.research.google.com/github/NumericAnalysis/Numeric_Analysis_restricted-access/blob/main/week1.ipynb\" target=\"_parent\"><img src=\"https://colab.research.google.com/assets/colab-badge.svg\" alt=\"Open In Colab\"/></a>"
      ]
    },
    {
      "cell_type": "markdown",
      "metadata": {
        "id": "pg4BJonXFUl5"
      },
      "source": [
        "# Week 1 | Introduction\n",
        "## Welcome to Computational Physics - FIZ4610"
      ]
    },
    {
      "cell_type": "markdown",
      "metadata": {
        "id": "7P5qYFJJHCJh"
      },
      "source": [
        "Numerical analysis is the branch of mathematics that is used to find approximations to difficult\n",
        "problems such as finding the roots of non-linear equations, integration involving complex expressions and solving differential equations for which analytical solutions do not exist. \n",
        "\n",
        "It is applied to a wide variety of disciplines such as business, all fields of engineering, computer science, education, and others. "
      ]
    },
    {
      "cell_type": "code",
      "metadata": {
        "colab": {
          "base_uri": "https://localhost:8080/"
        },
        "id": "yoxwiTGWfvlv",
        "outputId": "bd31010b-0d90-4ac6-80a2-8f49b667b3d5"
      },
      "source": [
        "print(\"Hello!! Numerical Computuation - YTU\")"
      ],
      "execution_count": null,
      "outputs": [
        {
          "output_type": "stream",
          "text": [
            "Hello!! Numerical Computuation - YTU\n"
          ],
          "name": "stdout"
        }
      ]
    },
    {
      "cell_type": "code",
      "metadata": {
        "colab": {
          "base_uri": "https://localhost:8080/"
        },
        "id": "tHy7ytaUEUoK",
        "outputId": "77f87e51-ae1b-466e-8209-de2e9002a8b3"
      },
      "source": [
        "help()\n"
      ],
      "execution_count": 7,
      "outputs": [
        {
          "output_type": "stream",
          "text": [
            "\n",
            "Welcome to Python 3.7's help utility!\n",
            "\n",
            "If this is your first time using Python, you should definitely check out\n",
            "the tutorial on the Internet at https://docs.python.org/3.7/tutorial/.\n",
            "\n",
            "Enter the name of any module, keyword, or topic to get help on writing\n",
            "Python programs and using Python modules.  To quit this help utility and\n",
            "return to the interpreter, just type \"quit\".\n",
            "\n",
            "To get a list of available modules, keywords, symbols, or topics, type\n",
            "\"modules\", \"keywords\", \"symbols\", or \"topics\".  Each module also comes\n",
            "with a one-line summary of what it does; to list the modules whose name\n",
            "or summary contain a given string such as \"spam\", type \"modules spam\".\n",
            "\n",
            "\n",
            "You are now leaving help and returning to the Python interpreter.\n",
            "If you want to ask for help on a particular object directly from the\n",
            "interpreter, you can type \"help(object)\".  Executing \"help('string')\"\n",
            "has the same effect as typing a particular string at the help> prompt.\n",
            "help> version\n"
          ],
          "name": "stdout"
        }
      ]
    },
    {
      "cell_type": "markdown",
      "metadata": {
        "id": "RiqKf10VC4PR"
      },
      "source": [
        "# FIZ4610 - Computational Physics - Numerik Analiz - Fizik\n",
        "**FIZ4610 - Fizikte Sayısal Çözümleme**\n",
        "\n",
        "**Kitap :**\n",
        "\n",
        "- Sayısal Fizik, Bekir Karaoğlu, 2004.\n",
        "\n",
        "- Fen ve Mühendisler İçin Nümerik Analiz, M. Bayram (Aktif Yay. 2002)\n",
        "\n",
        "- Numerical Recipes in C, W.H. Press, S.A. Teukolsky, W.T. Vetterling, B.P.Fannery (Cambridge Univ.Press, 2002)\n",
        "\n",
        "## Haftalık Konular ve İlgili Ön Hazırlık Çalışmaları: \n",
        "\n",
        "**Hafta\tKonular\tÖn Hazırlık**\n",
        "\n",
        "\n",
        "\n",
        "1. Sayısal hesaplamanın nitelikleri, sayısal hata türleri, bilgisayar proglamlama evreleri\n",
        "2. C++ veya Python programlama dili temel kavram ve komutları\n",
        "3.\tC++ veya Python dilinde küçük programların yazılması\t\n",
        "4.\tSayısal Türev yöntemleri ve program yazımı\t\n",
        "5.\tEuler algoritması ve Bir boyutta değişken kuvvet\t\n",
        "6.\tSayısal İntegral yöntemleri ve program yazımı\t\n",
        "7.\tUygulama Basit sarkacın tam çözümü\t\n",
        "\n",
        "8.\t*Ara Sınav 1*\t\n",
        "9.\t*Ara Sınav\tDers Kitabı*\n",
        "\n",
        "10.\tUygulama ; Ising model, karacisim ışıması ve Kare kuyu potansiyeli\t\n",
        "11.\tDiferansiyel denklemler Başlangıç değer problemleri; Runge-Kutta yöntemi ve program yazımı\t\n",
        "12.\tUygulama; Av Avcı modeli, Hava sürtünmeli atış hareketi, sıvı içinde bilyenin hareketi, van der Pol salınıcısı\t\n",
        "13.\tDiferansiyel denklemler sınır değer ve özdeğer problemleri ve program yazımı\t\n",
        "\n",
        "14.\tMazeret sınavı\t\n",
        "\n",
        "*Final*\n",
        "\n"
      ]
    },
    {
      "cell_type": "code",
      "metadata": {
        "colab": {
          "base_uri": "https://localhost:8080/",
          "height": 35
        },
        "id": "eERdzozpDLDw",
        "outputId": "274f2098-a9a1-4801-f86f-1d5343f4f4ed"
      },
      "source": [
        "Tutorname = \"Dr Murat Oduncuoğlu\"\n",
        "Tutorname\n"
      ],
      "execution_count": 1,
      "outputs": [
        {
          "output_type": "execute_result",
          "data": {
            "application/vnd.google.colaboratory.intrinsic+json": {
              "type": "string"
            },
            "text/plain": [
              "'Dr Murat Oduncuoğlu'"
            ]
          },
          "metadata": {
            "tags": []
          },
          "execution_count": 1
        }
      ]
    },
    {
      "cell_type": "code",
      "metadata": {
        "id": "YV-QzyCuDf9i"
      },
      "source": [
        "Schedule= \"Start with Introduction\"\n",
        "week = 14\n",
        "midterm1 = \"MidExam\"\n",
        "midterm2 = \"Project\"\n",
        "final = \"FinalExam\""
      ],
      "execution_count": 2,
      "outputs": []
    },
    {
      "cell_type": "code",
      "metadata": {
        "colab": {
          "base_uri": "https://localhost:8080/",
          "height": 35
        },
        "id": "TnA04bs0FxEo",
        "outputId": "7d9d77fb-9ba8-4746-94bb-ba979639288e"
      },
      "source": [
        "final"
      ],
      "execution_count": 8,
      "outputs": [
        {
          "output_type": "execute_result",
          "data": {
            "application/vnd.google.colaboratory.intrinsic+json": {
              "type": "string"
            },
            "text/plain": [
              "'FinalExam'"
            ]
          },
          "metadata": {
            "tags": []
          },
          "execution_count": 8
        }
      ]
    },
    {
      "cell_type": "markdown",
      "metadata": {
        "id": "Pqi4fWE5Frm_"
      },
      "source": [
        "# Week 2 | Sources of Errors"
      ]
    },
    {
      "cell_type": "code",
      "metadata": {
        "colab": {
          "base_uri": "https://localhost:8080/"
        },
        "id": "FUnKXXWrGRgI",
        "outputId": "21294b13-cd74-42d4-d4ac-60ab9c195537"
      },
      "source": [
        "a = 1+2\n",
        "b = 1.0+2.0\n",
        "c = 1.00001+2\n",
        "print (a,b,c, a/c)\n",
        "\n"
      ],
      "execution_count": 13,
      "outputs": [
        {
          "output_type": "stream",
          "text": [
            "3 3.0 3.00001 0.9999966666777778\n"
          ],
          "name": "stdout"
        }
      ]
    },
    {
      "cell_type": "markdown",
      "metadata": {
        "id": "Xk2hXDp8F5eY"
      },
      "source": [
        ""
      ]
    },
    {
      "cell_type": "markdown",
      "metadata": {
        "id": "WrQu6S_xG6TI"
      },
      "source": [
        "   "
      ]
    }
  ]
}
