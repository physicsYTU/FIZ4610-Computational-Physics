{
  "nbformat": 4,
  "nbformat_minor": 0,
  "metadata": {
    "colab": {
      "name": "Errors.ipynb",
      "private_outputs": true,
      "provenance": [],
      "collapsed_sections": [],
      "include_colab_link": true
    },
    "kernelspec": {
      "name": "python3",
      "display_name": "Python 3"
    },
    "language_info": {
      "name": "python"
    }
  },
  "cells": [
    {
      "cell_type": "markdown",
      "metadata": {
        "id": "view-in-github",
        "colab_type": "text"
      },
      "source": [
        "<a href=\"https://colab.research.google.com/github/NumericAnalysis/Numeric_Analysis_restricted-access/blob/main/Errors.ipynb\" target=\"_parent\"><img src=\"https://colab.research.google.com/assets/colab-badge.svg\" alt=\"Open In Colab\"/></a>"
      ]
    },
    {
      "cell_type": "code",
      "metadata": {
        "id": "9VL8cfj6CbQ7"
      },
      "source": [
        ""
      ],
      "execution_count": null,
      "outputs": []
    },
    {
      "cell_type": "markdown",
      "metadata": {
        "id": "6v4W9SK1Cczo"
      },
      "source": [
        "# Contents\n",
        "\n",
        "1. Introduction\n",
        "2. Phthon, Matlab, C++\n",
        "3. Numerical Truncation, Precision and Overﬂow\n",
        "4. Numerical Diﬀerentiation\n",
        "5. Roots, Maxima, Minima (closed methods)\n",
        "6. Roots, Maxima, Minima (open methods)\n",
        "7. Numerical Integration: Trapezoidal and Simpson’s formulae\n",
        "8. Solution of D.E.s: Runge-Kutta, and Finite-Diﬀerence\n",
        "9. Random Variables and Frequency Experiments\n",
        "10. Monte-Carlo Methods\n",
        "11. Artificial Intelligence\n",
        "12. Deep Learning\n",
        "13. Quantum Computing\n",
        "14. Review\n",
        "\n"
      ]
    },
    {
      "cell_type": "markdown",
      "metadata": {
        "id": "4wto-k5yUrhf"
      },
      "source": [
        "You may use a computational, **scientiﬁc problem-solving keys**\n",
        "\n",
        "Define Problem → Theory/Model → Algorithm ↔ Visualization -Verification"
      ]
    },
    {
      "cell_type": "markdown",
      "metadata": {
        "id": "O4WT_agVJ5nN"
      },
      "source": [
        "##   Making Computers Obey \n",
        "\n",
        "The best programs are written so that computing machines can \n",
        "perform them quickly and so that human beings can understand them\n",
        " clearly. A programmer is ideally an essayist who works with\n",
        " traditional aesthetic and literary forms as well as mathematical concepts, to communicate the way that an algorithm works and to\n",
        "convince a reader that the results will be correct.\n",
        " *- Donald E. Knuth"
      ]
    },
    {
      "cell_type": "markdown",
      "metadata": {
        "id": "zonHo75AKsNL"
      },
      "source": [
        "A **shell**\n",
        "is a *command-line interpreter*, that is, a set of small programs run by\n",
        "a computer that respond to the commands (the names of the programs) that\n",
        "you key in. Usually you open a special window to access the shell, and this window\n",
        "is called a shell as well. It is helpful to think of these shells as the\n",
        "outer layers of the computer’s operating system (OS) (Figure 2.1),\n",
        "within which lies a\n",
        "**kernel**\n",
        "of elementary operations. (The user seldom interacts directly with the kernel, except possibly when installing\n",
        "programs or when building an operating system from scratch.) It is the\n",
        "job of the shell to run programs, compilers, and utilities that do\n",
        "things like copying files. There can be different types of shells on a\n",
        "single computer or multiple copies of the same shell running at the same\n",
        "time.\n",
        "\n",
        "Operating systems have names such as **Unix, Linux, DOS, MacOS**, and **MS\n",
        "Windows**. The **operating system**\n",
        "is a group of programs used by the computer to communicate with users\n",
        "and devices, to store and read data, and to execute programs. The OS\n",
        "tells the computer what to do in an elementary way. The OS views you,\n",
        "other devices, and programs as input data for it to process; in many\n",
        "ways, it is the indispensable office manager. While all this may seem\n",
        "complicated, the purpose of the OS is to let the computer do the\n",
        "nitty-gritty work so that you can think higher-level thoughts and\n",
        "communicate with the computer in something closer to your normal\n",
        "everyday language. system\n",
        "\n",
        "When you submit a program to your computer in a **high-level\n",
        "language**\n",
        "the computer uses a compiler to process it. The\n",
        "**compiler**\n",
        "is another program that treats your program as a foreign language and\n",
        "uses a built-in dictionary and set of rules to translate it into basic\n",
        "machine language. As you can probably imagine, the final set of\n",
        "instructions is quite detailed and long and the compiler may make\n",
        "several passes through your program to decipher your logic and translate\n",
        "it into a fast code. The translated statements form an **object** or\n",
        "compiled code, and when **linked** together with other needed subprograms,\n",
        "form a load module. A *load module* is a complete set of machine\n",
        "language instructions that can be **loaded** into the computer’s memory\n",
        "and read, understood, and followed by the computer.\n",
        "\n",
        "Languages such as\n",
        "**Fortran**\n",
        "**C** use compilers to read your entire program and then translate it into\n",
        "basic machine instructions. Languages such as **BASIC** and **Maple**\n",
        "translate each line of your program as it is entered. Compiled languages\n",
        "usually lead to more efficient programs and permit the use of vast\n",
        "subprogram libraries. Interpreted languages give a more immediate\n",
        "response to the user and thereby appear **“friendlier.”** The Python and\n",
        "Java languages are a mix of the two. When you first compile your\n",
        "program, Python interprets it into an intermediate, universal **byte\n",
        "code**\n",
        "which gets stored as a PYC (or PYO) file. This file can be transported\n",
        "to and used on other computers, although not with different versions of\n",
        "Python. Then, when you run your program, Python recompiles the byte code\n",
        "into a machine-specific compiled code, which is faster than interpreting\n",
        "source code line by line."
      ]
    },
    {
      "cell_type": "markdown",
      "metadata": {
        "id": "Cqt74T6ILlCj"
      },
      "source": [
        "Programming is a written art that blends elements of science,\n",
        "mathematics, and computer science into a set of instructions that permit\n",
        "a computer to accomplish a desired task. \n",
        "\n",
        "The grammar of\n",
        "a computer language, a scientific program should include a number of\n",
        "essential elements to ensure the program’s validity and useability. As\n",
        "with other arts, we suggest that until you know better, you follow some\n",
        "simple rules. \n",
        "##A good program should\n",
        "\n",
        "-   Give the correct answers.\n",
        "\n",
        "-   Be clear and easy to read, with the action of each part easy\n",
        "    to analyze.\n",
        "\n",
        "-   Document itself for the sake of readers and the programmer.\n",
        "\n",
        "-   Be easy to use.\n",
        "\n",
        "-   Be built up out of small programs that can be\n",
        "    independently verified.\n",
        "\n",
        "-   Be easy to modify and robust enough to keep giving correct answers\n",
        "    after modification and simple debugging.\n",
        "\n",
        "-   Document the data formats used.\n",
        "\n",
        "-   Use trusted libraries.\n",
        "\n",
        "-   Be published or passed on to others to use and to develop further.\n",
        "\n",
        "One attraction of **object-oriented programming** is that it enforces\n",
        "these rules automatically. An elementary way to make any program clearer\n",
        "is to **structure** it with indentation, skipped lines, and parentheses placed strategically.This is performed to provide visual clues to the function of the different program parts (the “structures” in structured\n",
        "programming). In fact, Python uses indentations as structure elements as\n",
        "well as for clarity. Although the space limitations of a printed page\n",
        "keep us from inserting as many blank lines as we would prefer, we\n",
        "recommend that you do as we say and not as we do!\n"
      ]
    },
    {
      "cell_type": "code",
      "metadata": {
        "id": "J1uabebKMwKM"
      },
      "source": [
        "xy=12.345\n",
        "Pi = 3.141593\n",
        "Age=39                    # Output from either\n",
        "print(\"xy=%6.3f,  Pi=%9.6f,  Age=%d \\n\") \n",
        "(xy, Pi, Age)\n",
        "\n",
        "              "
      ],
      "execution_count": null,
      "outputs": []
    },
    {
      "cell_type": "code",
      "metadata": {
        "id": "BauzaLrHPit8"
      },
      "source": [
        "#import sys\n",
        "print(\"Hello \\n\")\n",
        "print(\"\\t Computational Physics\")     #tabulator\n",
        "b=4610\n",
        "print(\"decimal 4610 as integer b = %d \"%(b))  #for integer\n",
        "print(\"as octal b = %o\"%(b))   #octal\n",
        "print(\"as hexadecimal b = %x \"%(b))   #works hexadecimal\n",
        "print(\"learn \\\"Python\\\" \")   #use of double quote symbol\n",
        "print(\"shows a backslash \\\\\") #use of \\\\\n",
        "print('use of single \\' quotes \\' ')  #print single quotes"
      ],
      "execution_count": null,
      "outputs": []
    },
    {
      "cell_type": "code",
      "metadata": {
        "id": "hnWkA3bgQJ3y"
      },
      "source": [
        "# program contains error in order to throw an exception\n",
        "\n",
        "import sys\n",
        "from math import pi\n",
        "from sys import version\n",
        "\n",
        "if int(version[0])>2:      #raw_input deprecated in Python 3\n",
        "    raw_input=input  \n",
        "r = 2\n",
        "circum = 2.* pi* r                        # Calculate circum\n",
        "A = pi*r**2                               # Calculate A\n",
        "try: \n",
        "    q = open(\"ThrowCatch.dat\",'w')    #intentional mistake 'r', but run with it\n",
        "                                      #change 'r' by 'w' and run again\n",
        "except  IOError:\n",
        "    print ('Cannot open file')\n",
        "else:     \n",
        "    q.write(\"r = %9.6f, length = %9.6f, A= %9.6f \"%(r, circum, A))\n",
        "        \n",
        "    q.close()\n",
        "    print ('output in ThrowCatch.dat')\n",
        "    #catch(IOException ex){ex.printStackTrace(); }   # Catch"
      ],
      "execution_count": null,
      "outputs": []
    },
    {
      "cell_type": "code",
      "metadata": {
        "id": "9_thcmtiMIqJ"
      },
      "source": [
        "# AreaFormatted.py, Notebook Version\n",
        "\n",
        "from __future__ import  print_function\n",
        "from numpy import *\n",
        "from sys import version\n",
        "if int(version[0])>2:\n",
        "    raw_input=input\n",
        "\n",
        "name=raw_input('Key in your name :')           # input  good for strings           \n",
        "print('Hi ',name)\n",
        "\n",
        "radius=eval(raw_input('Enter a radius: '))     # OK for numbers\n",
        "print('you entered radius= %8.5f'%radius)  # formatted output\n",
        "name=raw_input('Key in another name:')         # input OK for strings\n",
        "radius= eval(raw_input('Enter a radius'))\n",
        "print('Enter new Name and r in file Name.dat')\n",
        "inpfile=open('Name.dat','r')                 #to read from file Name.dat\n",
        "for line in inpfile:\n",
        "    line=line.split()            #splits components of line\n",
        "    name=line[0]                 #first entry in the list\n",
        "    print(\" Hi  %10s\" %(name))    #print Hi plus first entry          \n",
        "    r=float(line[1])             #second entry convert to float (it is a string)\n",
        "    print(\" r = %13.5f\" %(r))     #converts x to float and print it\n",
        "inpfile.close()\n",
        "A=math.pi*r**2                   #use radius to find circles's area\n",
        "print(\"Done, look in A.dat\\n\")\n",
        "outfile=open('A.dat','w')\n",
        "outfile.write( 'r=  %13.5f\\n'%(r))\n",
        "outfile.write('A =  %13.5f\\n'%(A))\n",
        "outfile.close()\n",
        "print('r = %13.5f'%(r))           #screen output    \n",
        "print('A = %13.5f'%(A))             \n",
        "print('Now example of integer input ')\n",
        "age=int(eval(raw_input ('Now key in your age as an integer:  ')))\n",
        "print(\"age: %4d  years old,  you don't look it!\\n\"%(age))"
      ],
      "execution_count": null,
      "outputs": []
    },
    {
      "cell_type": "markdown",
      "metadata": {
        "id": "g_QzzAK6DWsi"
      },
      "source": [
        "# Numerical Truncation, Precision and Overﬂow\n",
        "\n",
        "\n",
        "## Topics Covered\n",
        "ntroduction to numerical methods; Taylor’s expansion and truncation errors; round-oﬀ errors, overﬂow; precision of data types in Python Matlab C++.\n",
        "\n",
        "It is important to understand that, in general, numerical methods are not exact; neither are the machines (computers) that perform the numerical calculations for us. In this lecture, we will look at the nature of truncation errors and round-oﬀ errors. An understanding of these sources of errors in numerical methods is\n",
        "as important as an understanding of the methods themselves.\n",
        "\n",
        "\n"
      ]
    },
    {
      "cell_type": "markdown",
      "metadata": {
        "id": "1osveyW5QgGh"
      },
      "source": [
        "Computers may be powerful, but they are finite.\n",
        "\n",
        " A problem in computer design is how to represent an arbitrary number using a\n",
        "finite amount of memory space and then how to deal with the limitations\n",
        "arising from this representation. As a consequence of computer memories\n",
        "being based on the magnetic or electronic realizations of a spin\n",
        "pointing up or down, the most elementary units of computer memory are\n",
        "the two binary integers (*bits*) 0 and 1. This means that all numbers\n",
        "are stored in memory in\n",
        "*binary*\n",
        "form, that is, as long strings of zeros and ones. Accordingly, *N* bits\n",
        "can store integers in the range \\[0, 2<sup>*N*</sup>\\], yet because the\n",
        "sign of the integer is represented by the first bit (a zero bit for\n",
        "positive numbers), the actual range for N-bit integers decreases to\n",
        "\\[0, 2<sup>*N* − 1</sup>\\].\n",
        "\n",
        "Long strings of zeros and ones are fine for computers but are awkward\n",
        "for humans. For this reason, binary strings are converted to *octal*,\n",
        "*decimal*, or *hexadecimal* numbers before the results are communicated\n",
        "to people. Octal and hexadecimal numbers are nice because the conversion\n",
        "maintains precision, but not all that nice because our decimal rules of\n",
        "arithmetic do not work for octals and hex’s. Converting to decimal\n",
        "numbers makes the numbers easier for us to work with, but unless the\n",
        "original number is a power of 2, the conversion decreases precision.\n",
        "\n",
        "A description of a particular computer’s system or language normally\n",
        "states the *word\n",
        "length* ,\n",
        "that is, the number of bits used to store a number. The length is often\n",
        "expressed in\n",
        "*bytes*i\n",
        "(a mouthful of bits) where\n",
        "1*b**y**t**e* ≡ 1*B* = 8*b**i**t**s*.\n",
        " Memory and storage sizes are measured in bytes, kilobytes, megabytes,\n",
        "gigabytes, terabytes, and petabytes (10<sup>15</sup>). Some care should\n",
        "be taken here by those who chose to compute sizes in detail ,because K\n",
        "does not always mean 1000:\n",
        "\n",
        "$$\n",
        "    1 \\mbox{K}  =  1  \\mbox{kB} = 2^{10}  \\mbox{bytes} =\n",
        "1024 \\mbox{bytes} .$$\n",
        "\n",
        "This is often (and confusingly) compensated for when memory size is\n",
        "stated in K, for example,\n",
        "\n",
        "$$512 \\mbox{K} = 2^{9}\n",
        "\\mbox{bytes} = 524,288         \\mbox{bytes} \\times\n",
        " \\frac{1  \\mbox{K}} { 1024         \\mbox{bytes}} .$$\n",
        "\n",
        "Conveniently, 1 byte is also the amount of memory needed to store a\n",
        "single letter like “a”, which adds up to a typical printed page\n",
        "requiring ∼3*k**B*.\n",
        "\n",
        "The memory chips in some older personal computers used 8-bit words, with\n",
        "modern PC’s using 64 bits . This meant that the maximum integer was a\n",
        "rather small 2<sup>7</sup> = 128 (7 because 1 bit is used for the sign).\n",
        "Using 64 bits permits integers in the range\n",
        "1−2<sup>63</sup> ≃ 10<sup>19</sup>. While at first this may seem like a\n",
        "large range, it really is not when compared to the range of sizes\n",
        "encountered in the physical world. As a case in point, the size of the\n",
        "universe compared to the size of a proton covers a scale of\n",
        "10<sup>41</sup>. Trying to store a number larger than the hardware or\n",
        "software was designed for\n",
        " *overflow* \n",
        "was common on older machines, but is less so now. An overflow is\n",
        "sometimes accompanied by an informative error message , and sometimes\n",
        "not."
      ]
    },
    {
      "cell_type": "markdown",
      "metadata": {
        "id": "kNI2XQM2xdy3"
      },
      "source": [
        "## Numerical Methods\n",
        "\n",
        "\n",
        "We apply numerical techniques to solve numerical problems when analytical solutions are diﬃcult or inconvenient. A simple example is the computation of the ﬁrst derivative of a function f(x). Calculus gives us an analytical method for forming an expression for the derivative, however, such analysis for some functions may be diﬃcult, impossible, or inconvenient. A simple numerical solution uses the Forward-Diﬀerence Approximation (FDA) that approximates the derivative by taking the gradient of the function f(x) in the region x to x+h:\n",
        "\n",
        "**FDA = ( f(x+h) - f(x) ) / h**\n",
        "\n",
        "where h is small but not zero.\n",
        "\n",
        "For example if   **f(x) = 2x^2 + 4x + 6**\n",
        "\n",
        "and we wish to determine the ﬁrst derivative evaluated at **x = 4**, the FDA (using **h=0.01**) gives:\n",
        "\n",
        "( (2 * 4.01^2+ 4 * 4.01 + 6 ) -(2 * 4.00^2+ 4 * 4.00 + 6 ) )/ 0.01 = 20.02.\n",
        "\n",
        "Of course this is only an approximation (the true value, by calculus, is 20).\n",
        "\n",
        "     plot [0:5] 2*x**2+4*x+6\n",
        "\n"
      ]
    },
    {
      "cell_type": "code",
      "metadata": {
        "id": "FCsXOQfe0RSX"
      },
      "source": [
        "x1=4.01\n",
        "x2=4\n",
        "\n",
        "v1 = 2 * (x1)**2 + 4 * x1 + 6\n",
        "v2 = 2 * (x2)**2 + 4 * x2 + 6\n",
        "v3 = (v1-v2)/0.01\n",
        "\n",
        "v3"
      ],
      "execution_count": null,
      "outputs": []
    },
    {
      "cell_type": "markdown",
      "metadata": {
        "id": "I45y38v0ykB8"
      },
      "source": [
        "\n",
        "\n",
        "## Truncation Errors\n",
        "\n",
        "The error in the above approximation can be written as **FDA - f’(x) = 20.02 - 20 = 0.02**. This is called a *truncation error* as it is due to the truncation of higher orders in the exact expression for the ﬁrst derivative.\n",
        "\n",
        "We can see the form of the truncation error in the FDA by considering Taylors expansion:\n",
        "\n",
        "**f(x+h) = f(x) + h.f‘(x)/1! + h^2.f‘‘(x)/2! + h^3.f‘‘‘(x)/3! + ....**\n",
        "\n",
        "Rearrange for the FDA:\n",
        "\n",
        "( f(x+h) - f(x) ) / h = f‘(x) + h.f‘‘(x)/2 + h^2.f‘‘‘(x)/6 + ....\n",
        "\n",
        "=>**FDA = f‘(x) + (h/2).f‘‘(x) + O(h^2)**\n",
        " \n",
        " The fird-st term ( f‘(x) ) is the **derivative**, the second term is the **truncation error** in the *FDA*\n",
        "\n",
        "We see that the FDA gives the ﬁrst derivative plus some extra terms in the series. The error in the approximation **FDA - f’(x)** is therefore (h/2).f“(x) + O(h). This can be checked numerically with the above example: (h/2).f“(x) = (0.01/2) x (4) = 0.02 (as found above). The truncation error in the FDA is proportional\n",
        "to h, the FDA is therefore called a *ﬁrst-order approximation*. Higher-order methods have truncation errors that are proportional to higher powers of h and therefore yield smaller truncation errors (when h is less than one).\n",
        "\n",
        "We will investigate the round-oﬀ error in the above calculation at the end of the next section.\n"
      ]
    },
    {
      "cell_type": "code",
      "metadata": {
        "id": "iwPus95Jr2ra"
      },
      "source": [
        "# Implementation of matplotlib function \n",
        "    \n",
        "import matplotlib.pyplot as plt\n",
        "\n",
        "\n",
        "# x_cords = range(-5,5)\n",
        "x_cords = range(0,5)\n",
        "y_cords = [2*x**2 + 4*x + 6 for x in x_cords]\n",
        "\n",
        "# the function, which is y = x^2 here\n",
        "# y = x**2\n",
        "\n",
        "\n",
        "# naming the x axis\n",
        "plt.xlabel('x - axis')\n",
        "# naming the y axis\n",
        "plt.ylabel('y - axis')\n",
        "# giving a title to my graph\n",
        "plt.title('My first graph!')\n",
        "\n",
        "\n",
        "plt.plot(x_cords, y_cords)\n",
        "plt.show()"
      ],
      "execution_count": null,
      "outputs": []
    },
    {
      "cell_type": "code",
      "metadata": {
        "id": "KVc4bvigs_xa"
      },
      "source": [
        "import matplotlib.pyplot as plt\n",
        "import numpy as np\n",
        "\n",
        "# 100 linearly spaced numbers\n",
        "x = np.linspace(-np.pi,np.pi,100)\n",
        "\n",
        "# the function, which is y = sin(x) here\n",
        "# y=x**2\n",
        "# y=x**3\n",
        "# y=2x+4\n",
        "# z = np.cos(x)\n",
        "\n",
        "y = np.sin(x)\n",
        "\n",
        "\n",
        "# setting the axes at the centre\n",
        "fig = plt.figure()\n",
        "ax = fig.add_subplot(1, 1, 1)\n",
        "ax.spines['left'].set_position('center')\n",
        "ax.spines['bottom'].set_position('center')\n",
        "ax.spines['right'].set_color('none')\n",
        "ax.spines['top'].set_color('none')\n",
        "ax.xaxis.set_ticks_position('bottom')\n",
        "ax.yaxis.set_ticks_position('left')\n",
        "\n",
        "# plot the function\n",
        "plt.plot(x,y, 'b', label='y=sin(x)')\n",
        "\n",
        "plt.legend(loc='upper left')\n",
        "\n",
        "# show the plot\n",
        "plt.show()\n",
        "\n",
        "# plot the functions\n",
        "#plt.plot(x,2*y, 'c', label='y=2sin(x)')\n",
        "#plt.plot(x,3*y, 'r', label='y=3sin(x)')\n",
        "\n"
      ],
      "execution_count": null,
      "outputs": []
    },
    {
      "cell_type": "markdown",
      "metadata": {
        "id": "bR-LRhQsyNuc"
      },
      "source": [
        "## Computer Precision (Round-oﬀ Errors)\n",
        "\n",
        "Numerical methods are implemented in computer programs where the numerical calculations can be performed quickly and conveniently. However, numbers are stored in computer memory with a limited precision; the loss of precision of a value is called a round-oﬀ error. Round-oﬀ errors can occur when a value is initially\n",
        "assigned, and can be compounded when values are combined in arithmetic operations. Iteration is common in computational methods and so it is important to minimise compound roundoﬀ.\n",
        "\n",
        "As round-oﬀ errors can be a signiﬁcant source of error in a numerical method (in addition to the truncation error) we will look more closely at the nature of the round-oﬀ error and how it can be reduced. A binary representation is used to store numbers in computer memory. For example the binary number\n",
        "**11.011** represents exactly the decimal number **3.375**:\n",
        "\n",
        "**1**            **1**   .   **0**          **1**          **1** =\n",
        "\n",
        "**1**x2^1 + **1**x2^0 + **0**x2^(-1)  + **1***2^(-2) + **1**2^(-2) = **3.375**\n",
        "\n",
        "Similarly the decimal value 0.3125 can be expanded to\n",
        "\n",
        "**0.25 + 0.0625 = 1/4 + 1/16 ** \n",
        "\n",
        "that can be stored exactly in binary as 0.0101. However, given a limited number of binary digits, it is possible that even a rational\n",
        "decimal number might not be stored precisely in binary. For example there is no precise representation for **0.3**; the nearest representation with **8 bits** is **0.01001101** that gives **0.30078125**. The precision increases as more binary digits are used, but there is always a round-oﬀ error. In general, the only real numbers that can be represented exactly in the computer’s memory are those that can be written in the form **m/2^k**\n",
        "where m and k are integers; however, again there is a limit to the set of numbers that are included in this group due to the limited number of binary digits used to store the value.\n",
        "                         \n",
        "\n",
        "*In Brief:*\n",
        "The difference between an approximation of a number used in computation and its correct (true) value is called a **round-off error**. It is one of the common errors found usually in numerical calculations. The other one is truncation error. The difference is that truncation error is the error made by truncating an inﬁnite sum and approximating it by a ﬁnite sum.\n"
      ]
    },
    {
      "cell_type": "markdown",
      "metadata": {
        "id": "Zg6z8fYWSnHU"
      },
      "source": [
        "### Machine Precision (Model)\n",
        "\n",
        "\n",
        "A major concern of computational scientists is that the floating-point\n",
        "representation used to store numbers is of limited precision. As we have\n",
        "shown, for a 32-bit-word machine, *single-precision numbers are good to\n",
        "6-7 decimal places, while doubles are good to 15-16 places*. To see how\n",
        "limited precision affects calculations, consider the simple computer\n",
        "addition of two single-precision numbers:\n",
        "\n",
        "$$ \n",
        "    7  +  1.0 \\times 10^{-7} \\;= \\;?$$\n",
        "\n",
        "The computer fetches these numbers from memory and stores the bit\n",
        "patterns\n",
        "\n",
        "$$\\begin{align}  \n",
        "  7    & =  0\\ \\ 1000 0010\\ \\      1100\\ 0000\\ 0000\\ 0000\\ 0000\\ 000  ,\\\\\n",
        "    10^{-7}  & =  0\\ \\        0110 0000\\ \\        1101\\ 0110\\ 1011\\ 1111\\ 1001\\ 010 , \n",
        "   \\end{align}$$\n",
        "\n",
        "in *working registers* (pieces of fast-responding memory). Because the\n",
        "exponents are different, it would be incorrect to add the mantissas, and\n",
        "so the exponent of the smaller number is made larger while progressively\n",
        "decreasing the mantissa by *shifting bits* to the right (inserting\n",
        "zeros) until both numbers have the same exponent:\n",
        "\n",
        "$$\\begin{align}\n",
        "    10^{-7} & =   0\\ \\    0110 0001 \\ \\      0110\\ 1011\\ 0101\\ 1111\\ 1100 101\\ (0) \\\\\n",
        "    & =   0\\ \\    0110 0010 \\ \\  0011\\ 0101\\ 1010\\\n",
        "1111\\ 1110 010\\ (10)\\\\ \n",
        "    & \\cdots        \\\\\n",
        "  & =  0\\ \\     1000 0010\\ \\    0000\\ 0000\\ 0000\\ 0000\\\n",
        "0000\\ 000\\ (0001101\\cdots0 \\\\ & \\Rightarrow \\hspace{12ex} 7 + 1.0\n",
        "\\times 10^{-7} = 7. \n",
        " \\end{align}$$\n",
        "\n",
        "Because there is no room left to store the last digits, they are lost,\n",
        "and after all this hard work the addition just gives 7 as the answer\n",
        "(truncation error in Figure 2.3). In other words, because a 32-bit\n",
        "computer stores only 6 or 7 decimal places, it effectively ignores any\n",
        "changes beyond the sixth decimal place.\n",
        "\n",
        "The preceding loss of precision is categorized by defining the *machine\n",
        "precision*\n",
        "*ϵ*<sub>*m*</sub> as the maximum positive number that, on the computer,\n",
        "can be added to the number stored as 1 without changing that stored 1:\n",
        "$$ \n",
        " 1_{c} +  \\epsilon_{m}  =   1_{c},$$\n",
        "\n",
        "where the subscript *c* is a reminder that this is a computer representation of\n",
        "1.Consequently, an arbitrary number *x* can be thought of as related to its\n",
        "floating-point representation *x*<sub>*c*</sub> by \n",
        "$$ \n",
        " x_{c}  = x (1 \\pm \\epsilon),\\quad |\\epsilon| \\leq \\epsilon_m ,$$\n",
        "\n",
        "where the actual value for *ϵ* is not known. In other words, except for\n",
        "powers of 2 that are represented exactly, we should assume that all\n",
        "single-precision numbers contain an error in the sixth decimal place and\n",
        "that all doubles have an error in the fifteenth place. And as is always\n",
        "the case with errors, we must assume that we really do not know what the\n",
        "error is, for if we knew, then we would eliminate it! Consequently, the\n",
        "arguments we are about to put forth regarding errors should be\n",
        "considered approximate, but that is to be expected for unknown errors."
      ]
    },
    {
      "cell_type": "code",
      "metadata": {
        "id": "JOBvTOU7ijQt"
      },
      "source": [
        "a = 3    # for integer number\n",
        "\n",
        "# Base 2(binary)\n",
        "bin_a = bin(a)\n",
        "print(bin_a,\"binary\")\n",
        "print(int(bin_a, 2),\"decimal\")   #Base 2(binary)\n",
        "\n",
        "# Prefix\n",
        "# 0b      (zero + lowercase letter 'b')\n",
        "# 0B      (zero + uppercase letter 'B')\t    for Binary\t2"
      ],
      "execution_count": null,
      "outputs": []
    },
    {
      "cell_type": "code",
      "metadata": {
        "id": "vu6m51qvTFhD"
      },
      "source": [
        "#determines machine precision \n",
        "\n",
        "from __future__ import print_function\n",
        "\n",
        "N = 10\n",
        "eps = 1.0\n",
        "\n",
        "for i in range(N):\n",
        "    eps = eps/2\n",
        "    one_Plus_eps = 1.0  +  eps\n",
        "    print('one  +  eps = ', one_Plus_eps)\n",
        "    print('eps = ', eps)"
      ],
      "execution_count": null,
      "outputs": []
    },
    {
      "cell_type": "markdown",
      "metadata": {
        "id": "6hz28fpbkGTW"
      },
      "source": [
        "**Example:** \n",
        "* Write Python code for converting a decimal number to it’s binary equivalent and vice-versa.(for integer numbers)\n",
        "\n",
        "* Write Python code for converting a decimal number to it’s binary equivalent and vice-versa. (for rational numbers)\n",
        "\n",
        "*From decimal to binary*\n",
        "\n",
        "Input (Decimal) : 8\n",
        "\n",
        "Output (Binary) : 1 0 0 0\n",
        "\n",
        "*From binary  to decimal*\n",
        "\n",
        "Input (Binary)   : 100\n",
        "\n",
        "Output (Decimal) : 4"
      ]
    },
    {
      "cell_type": "markdown",
      "metadata": {
        "id": "S38mFHr6lWMe"
      },
      "source": [
        "## Floating-Point Representation\n",
        "\n",
        "Real numbers are represented on computers in either *fixed-point* or\n",
        "*floating-point* notation. *Fixed-point notation* can be used for\n",
        "numbers with a fixed number of places beyond the decimal point (radix)\n",
        "or for integers. \n",
        "\n",
        "The number of bits is usually ﬁxed for any given computer. Using binary representation gives us an insufﬁcient range and precision of numbers to do relevant engineering calculations. To achieve the range of values needed with the same number of bits, we use **ﬂoating point** numbers, or **ﬂoats** for short. Instead of utilizing each bit as the coefﬁcient of a power of 2, ﬂoats allocate bits to three different parts:\n",
        "the **sign indicator**, s, which says whether a number is positive or negative; characteristic or exponent,\n",
        "\n",
        "\n",
        "Most scientific computations use double-precision floating-point numbers\n",
        "with 64*b* = 8*B*. The *floating-point representation* of numbers on\n",
        "computers is a binary version of what is commonly known as *scientific*\n",
        "or *engineering notation*. For example, the speed of light\n",
        "**c** = +2.99792458 × 10<sup>+8</sup>**m/s** in scientific notation and\n",
        "+0.299792458 × 10<sup>+9</sup> or 0.299795498 E09 m/s in engineering\n",
        "notation. In each of these cases, the number in front is called the\n",
        "*mantissa*\n",
        "\n",
        "\n",
        "Computers store REAL numbers (as  opposed to INTEGER numbers) in the ﬂoating-point representation value = m b^e\n",
        "where m is the mantissa, b is the base (= 2 in computers) and e is the exponent. \n",
        "\n",
        "In C/C++, a type ”ﬂoat” number is stored in 32 binary bits (4 bytes) [this is equivalent to a ”real” in Fortran]. \n",
        "\n",
        "To allow for a large exponent range the binary bits available for storage are shared between the mantissa and the exponent of the number. For example the number 413.26 is represented by a mantissa part and an exponent part as 0.41326x10^3. The division of the 32 binary bits are as follows: 8 bits are used for to store\n",
        "the exponent, 1 bit for the sign of the exponent, and 23 bits for the mantissa. The precision of the storage\n",
        "of real data is therefore limited by the 23 bits used to store the mantissa.\n",
        "\n",
        "\n",
        "In Fortran the number of binary bits used to store type real numbers can be increased from the default 32 to 64 or 128 by declaring the type ”real” data with the kind speciﬁer. The default single-precision data has kind=4 where each data is stored in 4 bytes (32 binary bits) of memory. Double-precision data (kind=8) is allocated 8 bytes (64 binary bits) [this is equivalent to a ”double” in C/C++] and quad-precision (kind=16) 16 bytes (128 binary bits). Double precision has about twice the precision as single precision and a much larger range in the exponent, quad precision has more than four times the precision and a very large range in the exponent. The three real kinds are illustrated below.\n",
        "\n",
        "**Type and Kind**  | real (kind=4 )*     \\\\  * default kind in Fortran.\n",
        "\n",
        "**Memory allocation** | 4 bytes ( 32 bits) \n",
        "\n",
        "**Precision** | 7 s.f. (Single)     \\\\s.f. = \"significant figures\".\n",
        "\n",
        "**Range** |  10^38\n",
        "\n",
        "**C/C++**   | \"float\"\n",
        "\n",
        "------------\n",
        "**Type and Kind**  | real (kind=8 )*     \\\\  * default kind in Fortran.\n",
        "\n",
        "**Memory allocation**  | 8 bytes ( 64 bits) \n",
        "\n",
        "**Precision** | 15 s.f. (Double)     \\\\s.f. = \"significant figures\".\n",
        "\n",
        "**Range** | 10^308\n",
        "\n",
        "**C/C++** | \"double\"\n",
        "\n",
        "-----\n",
        "**Type and Kind**  | real (kind=16 )*     \\\\  * default kind in Fortran.\n",
        "\n",
        "**Memory allocation**  | 16 bytes ( 128 bits) \n",
        "\n",
        "**Precision** | 34 s.f. (Quad)     \\\\s.f. = \"significant figures\".\n",
        "\n",
        "**Range** | 10^34931\n",
        "\n",
        "**C/C++** | \"long double\" + \\\\ + only on 64 bit platforms.\n",
        "\n",
        "----\n",
        "**Table 2.1** The Institute of Electrical and Electronics Engineers (IEEE) IEEE 754 Standard for Primitive Data Types.\n",
        "\n",
        "|*Name*| *Type* | *Bits* | *Bytes*| *Range*| \n",
        "|- - -|- - -|- - -|- - -|- - -|\n",
        "|`boolean` | Logical | 1 |$\\frac{1}{8}$| `true` or `false` | \n",
        "|`char` |String | 16 |2| ’\\u0000’- ’\\uFFFF’ (ISO Unicode characters) | \n",
        "|`byte` |Integer | 8 | 1 | -128 $\\leftrightarrow$ +127| \n",
        "|`short`|Integer | 16 | 2 |-32,768 $\\leftrightarrow$ +32,767| \n",
        "|`int` |Integer | 32 | 4|-2,147,483,648 $\\leftrightarrow$ +2,147,483,647| \n",
        "|`long` |Integer |64 | 8 | -9,223,372,036,854,775,808 $\\leftrightarrow$ 9,223,372,036,854,775,807| \n",
        "|`float` |Floating | 32 | 4 |$\\pm 1.401298\\times 10^{-45} \\leftrightarrow \\pm 3.402923\\times 10^{+38}$| \n",
        "|`double`|Floating | 64 | 8 | $\\pm 4.94065645841246544\\times 10^{-324} \\leftrightarrow \\pm 1.7976931348623157\\times 10^{+308}$| \n",
        "\n",
        "\n",
        "A limitation is also placed on the range of values that be be stored, this is illustrated for single-precision\n",
        "type real data below:\n",
        "\n",
        "                            \n",
        " overflow  -10^38     \n",
        " underflow -10^-45 +10^-45   \n",
        " overflow   +10^38\n",
        "\n",
        "Numbers that are larger than the largest ﬂoating point number capable of being represented result in **overﬂow**; Python handles this case by assigning the result to inf. Numbers that are smaller than the smallest subnormal number result in **underﬂow**; Python handles this case by assigning the result to zero."
      ]
    },
    {
      "cell_type": "code",
      "metadata": {
        "id": "nnbij-vvmJHJ"
      },
      "source": [
        "f = 1.2\n",
        "f1 = 2e400\n",
        "f2= 5 + 2j\n",
        "string=\"hello\"\n",
        "\n",
        "f"
      ],
      "execution_count": null,
      "outputs": []
    },
    {
      "cell_type": "code",
      "metadata": {
        "id": "faCco0AamkjP"
      },
      "source": [
        "type(f2)\n"
      ],
      "execution_count": null,
      "outputs": []
    },
    {
      "cell_type": "code",
      "metadata": {
        "id": "DYTG81r1oFp4"
      },
      "source": [
        "a, b = 3, 4\n",
        "print(a,b)"
      ],
      "execution_count": null,
      "outputs": []
    },
    {
      "cell_type": "code",
      "metadata": {
        "id": "ZJhbDDxxqJhB"
      },
      "source": [
        "fl1 =  1.79e308\n",
        "fl2 =  1.8e308\n",
        "fl3 =  5e-324\n",
        "fl4 =  1e-325\n",
        "\n",
        "print(\"fl1 = \",fl1, \"    \", \"fl3 = \", fl3)\n",
        "# print(\"fl2 =\", fl2)  # print for fl2\n",
        "# print(\"fl4 = \",fl4)  # print for fl4"
      ],
      "execution_count": null,
      "outputs": []
    },
    {
      "cell_type": "code",
      "metadata": {
        "id": "foYG7-pf4fNX"
      },
      "source": [
        ""
      ],
      "execution_count": null,
      "outputs": []
    },
    {
      "cell_type": "markdown",
      "metadata": {
        "id": "iTlaMhpS1C_k"
      },
      "source": [
        "Note that the underscore symbol is used to deﬁne the precision of the constant; if this is not used then some precision might be lost, or unpredictable values assigned to some of the least signiﬁcant digits. \n",
        "\n",
        "We will see later in the course how double- and quad-precision can greatly reduce round-oﬀ errors in numerical methods.\n",
        "\n",
        "*Remember*: although double- and quad-precision can reduce round-oﬀ errors they have no eﬀect on the size of truncation errors; truncation errors are inherent to the numerical method and not to the internal representation of numbers in a computer."
      ]
    },
    {
      "cell_type": "code",
      "metadata": {
        "id": "aQEXaatZ4jWI"
      },
      "source": [
        ""
      ],
      "execution_count": null,
      "outputs": []
    },
    {
      "cell_type": "markdown",
      "metadata": {
        "id": "0IS2Bdke1jQK"
      },
      "source": [
        "Example:\n",
        "The expression  ((a+b)^2 - 2.a.b - b^2) / a^2 reduces to a^2 / a^2 = 1. But computed in a machine with limited precision can give unexpected results\n"
      ]
    },
    {
      "cell_type": "code",
      "metadata": {
        "id": "IJkyfxOL2Bff"
      },
      "source": [
        "4.9 - 4.845 == 0.055"
      ],
      "execution_count": null,
      "outputs": []
    },
    {
      "cell_type": "code",
      "metadata": {
        "id": "ZeyQofFT2pBR"
      },
      "source": [
        "0.1 + 0.2 + 0.3 == 0.6"
      ],
      "execution_count": null,
      "outputs": []
    },
    {
      "cell_type": "code",
      "metadata": {
        "id": "QXfeZfdz27jb"
      },
      "source": [
        "import sys\n",
        "sys.float_info"
      ],
      "execution_count": null,
      "outputs": []
    },
    {
      "cell_type": "code",
      "metadata": {
        "id": "BWNu730T4lGJ"
      },
      "source": [
        "2**(-1075)"
      ],
      "execution_count": null,
      "outputs": []
    },
    {
      "cell_type": "markdown",
      "metadata": {
        "id": "HILldqCw5pBM"
      },
      "source": [
        "Example : *test for precision*\n",
        "\n",
        "The following programs (in Python MATLAB and C++) implement the Forward-Diﬀerence Approximation algorithm using single-precision.\n",
        "\n",
        "Tabulate\n",
        "\n",
        "**h = 0.1**\n",
        "\n",
        "FDA=\n",
        "\n",
        "t.e=\n",
        "\n",
        "r.e=\n",
        "\n",
        "**h=0.01**\n",
        "\n",
        "FDA=\n",
        "\n",
        "t.e=\n",
        "\n",
        "r.e=\n",
        "\n",
        "**h=0.001**\n",
        "\n",
        "\n",
        "FDA=\n",
        "\n",
        "t.e=\n",
        "\n",
        "r.e=\n",
        "\n",
        "**h=0.0001**\n",
        "\n",
        "\n",
        "FDA=\n",
        "\n",
        "t.e=\n",
        "\n",
        "r.e=\n",
        "\n",
        "**h=0.00001**\n",
        "\n",
        "\n",
        "FDA=\n",
        "\n",
        "t.e=\n",
        "\n",
        "r.e=\n",
        "\n",
        "----\n",
        "\n",
        "[C++]\n",
        "\n",
        " \\#include $<$iostream$>$\n",
        "\n",
        "float f(float x) { return 2*x*x + 4*x + 6; }\n",
        "\n",
        "int main() {\n",
        "\n",
        "float h = 0.1;\n",
        "\n",
        "std::cout << \"FDA = \"\n",
        "\n",
        "<< (f(3.0+h)-f(3.0))/h\n",
        "\n",
        "<< std::endl;\n",
        "\n",
        "}"
      ]
    },
    {
      "cell_type": "markdown",
      "metadata": {
        "id": "b9mJkZIX5bLa"
      },
      "source": [
        "## SUMMARY\n",
        "\n",
        "1. Numbers may be represented in several different ways, each representation scheme having advantages and disadvantages.\n",
        "2. Computers must represent numbers using a ﬁnite number of digits (i.e., bits).\n",
        "3. Binary and IEEE754 are ﬁnite representations of numbers used by computers.\n",
        "4. The round-off error is an important error associated with numerical methods."
      ]
    }
  ]
}
