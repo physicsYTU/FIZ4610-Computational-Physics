{
  "nbformat": 4,
  "nbformat_minor": 0,
  "metadata": {
    "kernelspec": {
      "display_name": "Python 3",
      "language": "python",
      "name": "python3"
    },
    "language_info": {
      "codemirror_mode": {
        "name": "ipython",
        "version": 3
      },
      "file_extension": ".py",
      "mimetype": "text/x-python",
      "name": "python",
      "nbconvert_exporter": "python",
      "pygments_lexer": "ipython3",
      "version": "3.6.0"
    },
    "colab": {
      "name": "PythonintroI.ipynb",
      "provenance": [],
      "include_colab_link": true
    }
  },
  "cells": [
    {
      "cell_type": "markdown",
      "metadata": {
        "id": "view-in-github",
        "colab_type": "text"
      },
      "source": [
        "<a href=\"https://colab.research.google.com/github/NumericAnalysis/Numeric_Analysis_restricted-access/blob/main/Pythonintrobasic.ipynb\" target=\"_parent\"><img src=\"https://colab.research.google.com/assets/colab-badge.svg\" alt=\"Open In Colab\"/></a>"
      ]
    },
    {
      "cell_type": "markdown",
      "metadata": {
        "id": "jJ2B8o6sBuv8"
      },
      "source": [
        "# Computational Physics FIZ4610 \n",
        "\n",
        "## Computational Physics\n",
        "\n",
        "|Instructor| Prof. Dr Murat Oduncuoğlu|\n",
        "|--|---------------------------------------|\n",
        "|Email | murato@yildiz.edu.tr|\n",
        "|Office| E1050|\n",
        "|Office hours | Mon/Wed 8:30 - 10:00 |\n",
        "\n",
        "# Python Basics\n",
        "\n"
      ]
    },
    {
      "cell_type": "code",
      "metadata": {
        "colab": {
          "base_uri": "https://localhost:8080/"
        },
        "id": "GJq7dZ-dBuv-",
        "outputId": "dacf4451-4f42-4a66-d3fb-63c276badc41"
      },
      "source": [
        "#get started\n",
        "print(\"Hello, this is Computational Physics FIZ4610\")"
      ],
      "execution_count": 1,
      "outputs": [
        {
          "output_type": "stream",
          "text": [
            "hello, this is Computational Physics FIZ4610\n"
          ],
          "name": "stdout"
        }
      ]
    },
    {
      "cell_type": "markdown",
      "metadata": {
        "id": "kvbP4shVBuv_"
      },
      "source": [
        "# Variables and types\n",
        "\n",
        "Variable names in Python can contain alphanumerical characters a-z, A-Z, 0-9 and some special characters such as _. \n",
        "    \n",
        "Normal variable names must start with a letter.\n",
        "\n",
        "By convention, variable names start with a lower-case letter, and Class names start with a capital letter.\n",
        "\n",
        "In addition, there are a number of Python keywords that cannot be used as variable names. \n",
        "\n",
        "    $ and, as, assert, print......\n",
        "    \n"
      ]
    },
    {
      "cell_type": "code",
      "metadata": {
        "collapsed": true,
        "id": "lrRydMPVBuwA"
      },
      "source": [
        "# variable assignments\n",
        "#The assignment operator in Python is =. \n",
        "#Python is a dynamically typed language, different from C/C++, no need to specify the type of a variable\n",
        "\n",
        "x = 1.0"
      ],
      "execution_count": 2,
      "outputs": []
    },
    {
      "cell_type": "code",
      "metadata": {
        "colab": {
          "base_uri": "https://localhost:8080/"
        },
        "id": "QMQvhwqrBuwB",
        "outputId": "9ddda4f9-28ae-469e-ae71-d90d81223a2e"
      },
      "source": [
        "print(x, type(x))"
      ],
      "execution_count": 3,
      "outputs": [
        {
          "output_type": "stream",
          "text": [
            "1.0 <class 'float'>\n"
          ],
          "name": "stdout"
        }
      ]
    },
    {
      "cell_type": "code",
      "metadata": {
        "id": "RwPtf_WrBuwB",
        "outputId": "cbcfc737-7720-49b8-b1af-f3deb233d2e0"
      },
      "source": [
        "my_variable = 12\n",
        "print(my_variable, type(my_variable))"
      ],
      "execution_count": null,
      "outputs": [
        {
          "output_type": "stream",
          "text": [
            "12 <class 'int'>\n"
          ],
          "name": "stdout"
        }
      ]
    },
    {
      "cell_type": "code",
      "metadata": {
        "collapsed": true,
        "id": "mQlHnqzLBuwC"
      },
      "source": [
        "# Fundamental Variables and types\n",
        "# integers\n",
        "# float\n",
        "# bollean\n",
        "# complex\n",
        "a = 1\n",
        "b = 2.0\n",
        "c = True\n",
        "d = 1+1.0j"
      ],
      "execution_count": null,
      "outputs": []
    },
    {
      "cell_type": "code",
      "metadata": {
        "id": "J6FfBIQpBuwC",
        "outputId": "6c385f53-3c59-4c26-efe4-905cc079e943"
      },
      "source": [
        "print(a, type(a))\n",
        "print(b, type(b))\n",
        "print(c, type(c))\n",
        "print(d, type(d))"
      ],
      "execution_count": null,
      "outputs": [
        {
          "output_type": "stream",
          "text": [
            "1 <class 'int'>\n",
            "2.0 <class 'float'>\n",
            "True <class 'bool'>\n",
            "(1+1j) <class 'complex'>\n"
          ],
          "name": "stdout"
        }
      ]
    },
    {
      "cell_type": "markdown",
      "metadata": {
        "id": "u7DEOT2GBuwD"
      },
      "source": [
        "# Question: \n",
        "\n",
        "1. How to find the real and imaginary part for a complex variable\n",
        "2. Why do we need to set different types of variables for interger and float, instead of using just complex type?\n",
        "3. How to define the variables in other languages like Matlab, C, C++, Java?"
      ]
    },
    {
      "cell_type": "code",
      "metadata": {
        "collapsed": true,
        "id": "ZHaIDnamBuwD"
      },
      "source": [
        "a=1\n",
        "b=1+3j\n"
      ],
      "execution_count": null,
      "outputs": []
    },
    {
      "cell_type": "markdown",
      "metadata": {
        "id": "qLWNz7J6BuwE"
      },
      "source": [
        "# Operators and comparisons\n",
        "\n",
        "Most operators and comparisons in Python work as one would expect:\n",
        "\n",
        "Arithmetic operators +, -, *, /, // (integer division), '***' power\n"
      ]
    },
    {
      "cell_type": "code",
      "metadata": {
        "colab": {
          "base_uri": "https://localhost:8080/"
        },
        "id": "PL2hlLU4BuwE",
        "outputId": "fbda9f88-18b1-4e57-979c-d272cb41184f"
      },
      "source": [
        "x, y = 1, 2\n",
        "print(x+y, x-y, x*y, x/y, x//y, y**x)\n",
        "print(x>y, x==y, x<y)"
      ],
      "execution_count": 6,
      "outputs": [
        {
          "output_type": "stream",
          "text": [
            "3 -1 2 0.5 0 2\n",
            "False False True\n"
          ],
          "name": "stdout"
        }
      ]
    },
    {
      "cell_type": "code",
      "metadata": {
        "colab": {
          "base_uri": "https://localhost:8080/"
        },
        "id": "kqSgohQQBuwF",
        "outputId": "e458d687-7ca1-4f22-ea17-733da5a519ed"
      },
      "source": [
        "# Advanced functions? sin, cos\n",
        "from math import sin, cos\n",
        "print(sin(x), cos(x))"
      ],
      "execution_count": 5,
      "outputs": [
        {
          "output_type": "stream",
          "text": [
            "0.8414709848078965 0.5403023058681398\n"
          ],
          "name": "stdout"
        }
      ]
    },
    {
      "cell_type": "code",
      "metadata": {
        "colab": {
          "base_uri": "https://localhost:8080/"
        },
        "id": "u0Woc408BuwF",
        "outputId": "58d6dd10-5735-46bf-8f96-31094e4534a4"
      },
      "source": [
        "# we can also do string calculations!\n",
        "str1 = 'Welcome to ' \n",
        "str2 = 'YTU'\n",
        "print(str1+str2)"
      ],
      "execution_count": 4,
      "outputs": [
        {
          "output_type": "stream",
          "text": [
            "Welcome to YTU\n"
          ],
          "name": "stdout"
        }
      ]
    },
    {
      "cell_type": "markdown",
      "metadata": {
        "id": "cZBxUokwBuwF"
      },
      "source": [
        "#  Compound types\n",
        "\n",
        "## Strings\n",
        "## List\n",
        "## Dictionaries (_after-class study_)"
      ]
    },
    {
      "cell_type": "code",
      "metadata": {
        "colab": {
          "base_uri": "https://localhost:8080/"
        },
        "id": "1dm8WFOCBuwG",
        "outputId": "6f8612f9-1a7b-4135-ba1b-dfad1f88a903"
      },
      "source": [
        "Strings = \"Welcome to FIZ4610\"\n",
        "print(Strings, type(Strings))"
      ],
      "execution_count": 8,
      "outputs": [
        {
          "output_type": "stream",
          "text": [
            "Welcome to FIZ4610 <class 'str'>\n"
          ],
          "name": "stdout"
        }
      ]
    },
    {
      "cell_type": "code",
      "metadata": {
        "colab": {
          "base_uri": "https://localhost:8080/"
        },
        "id": "3Sh-NUhuBuwG",
        "outputId": "15ed4e38-d635-48e2-9a48-eee790929801"
      },
      "source": [
        "Lists = ['Welcome to Physics 4610']\n",
        "print(Lists, type(Lists))"
      ],
      "execution_count": 10,
      "outputs": [
        {
          "output_type": "stream",
          "text": [
            "['Welcome to Physics 4610'] <class 'list'>\n"
          ],
          "name": "stdout"
        }
      ]
    },
    {
      "cell_type": "markdown",
      "metadata": {
        "id": "2airH6X5BuwG"
      },
      "source": [
        "# Question: \n",
        "\n",
        "What are the differences?"
      ]
    },
    {
      "cell_type": "code",
      "metadata": {
        "collapsed": true,
        "id": "ZuffbpUHBuwH"
      },
      "source": [
        "# a few more tricks\n",
        "# len(Strings)\n",
        "# dir(Strings), check its attributes\n",
        "# help(Strings.replace)\n",
        "#dir(Strings)\n",
        "#help(Strings.isalpha)\n",
        "#dir(Lists)"
      ],
      "execution_count": null,
      "outputs": []
    },
    {
      "cell_type": "code",
      "metadata": {
        "id": "osNHLDW8BuwH",
        "outputId": "72b4a09c-4428-45c9-813f-9bce786ba7ab"
      },
      "source": [
        "# Lists are very similar to strings, except that each element can be of any type.\n",
        "# You can do different types of operations on List\n",
        "# List is like an array, you can call its elements according to index\n",
        "# You can call one element, and many element as well\n",
        "\n",
        "Lists.append(2)\n",
        "print(Lists)"
      ],
      "execution_count": null,
      "outputs": [
        {
          "output_type": "stream",
          "text": [
            "['Welcome to Physics 300', 2]\n"
          ],
          "name": "stdout"
        }
      ]
    },
    {
      "cell_type": "markdown",
      "metadata": {
        "id": "9WI7NYH8BuwH"
      },
      "source": [
        "# for loops\n",
        "In python, we can visit the list by for loop. The most common is the for loop, which is used together with iterable objects, such as lists. The basic syntax is:\n",
        "\n"
      ]
    },
    {
      "cell_type": "code",
      "metadata": {
        "colab": {
          "base_uri": "https://localhost:8080/"
        },
        "id": "BKg8M8lfBuwI",
        "outputId": "05837969-de74-46fd-c36a-b2cd664ac3b3"
      },
      "source": [
        "for x in [1,2,4,5]:\n",
        "    print(x)"
      ],
      "execution_count": 11,
      "outputs": [
        {
          "output_type": "stream",
          "text": [
            "1\n",
            "2\n",
            "4\n",
            "5\n"
          ],
          "name": "stdout"
        }
      ]
    },
    {
      "cell_type": "markdown",
      "metadata": {
        "id": "r-WJU65TBuwI"
      },
      "source": [
        "# Exercise\n",
        "In 1888 Johannes Rydberg published his famous formula for the wavelengths $\\lambda$ of the emissioon lines of the hydrogen atom \n",
        "\n",
        "\n",
        "$$\\frac{1}{\\lambda} = R (\\frac{1}{m^2} - \\frac{1}{n^2})$$\n",
        "\n",
        "Where $R$ is the Rydberg constant = 1.097 $\\times$ $10^{-2} \\text{nm}^{-1}$, $m$ and $n$ are positive integers. For a given value of $m$, $\\lambda$ is given for this formula for all $n>m$ series, the first three series are known as the Lyman, Belmer and Paschen series, named after their discoverers. Can you write a code to compute the first three series for the first five lines?"
      ]
    },
    {
      "cell_type": "code",
      "metadata": {
        "colab": {
          "base_uri": "https://localhost:8080/"
        },
        "id": "H9m4Q0LRBuwI",
        "outputId": "290c51a3-ceeb-4bef-c5b2-4a9d67645065"
      },
      "source": [
        "R = 1.097e-2\n",
        "for m in [1,2,3]:\n",
        "    print(\"Series for m = \", m)\n",
        "    for k in [1,2,3,4,5]:\n",
        "        n = m + k\n",
        "        invlambda = R*(1.0/m**2 - 1/n**2)\n",
        "        print(\"n=\",n, \"  \", 1/invlambda, \"nm\")\n",
        "        #print m, n, 1/m**2, 1/n**2\n"
      ],
      "execution_count": 12,
      "outputs": [
        {
          "output_type": "stream",
          "text": [
            "Series for m =  1\n",
            "n= 2    121.5436037678517 nm\n",
            "n= 3    102.55241567912488 nm\n",
            "n= 4    97.23488301428137 nm\n",
            "n= 5    94.95594044363415 nm\n",
            "n= 6    93.76220862091418 nm\n",
            "Series for m =  2\n",
            "n= 3    656.3354603463993 nm\n",
            "n= 4    486.1744150714068 nm\n",
            "n= 5    434.084299170899 nm\n",
            "n= 6    410.2096627164995 nm\n",
            "n= 7    397.04243897498225 nm\n",
            "Series for m =  3\n",
            "n= 4    1875.2441724182836 nm\n",
            "n= 5    1281.9051959890612 nm\n",
            "n= 6    1093.8924339106654 nm\n",
            "n= 7    1005.013673655424 nm\n",
            "n= 8    954.6697605038536 nm\n"
          ],
          "name": "stdout"
        }
      ]
    },
    {
      "cell_type": "code",
      "metadata": {
        "collapsed": true,
        "id": "qY1d_qeABuwI"
      },
      "source": [
        ""
      ],
      "execution_count": null,
      "outputs": []
    }
  ]
}