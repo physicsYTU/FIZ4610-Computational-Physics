{
  "nbformat": 4,
  "nbformat_minor": 0,
  "metadata": {
    "kernelspec": {
      "display_name": "Python 3",
      "language": "python",
      "name": "python3"
    },
    "language_info": {
      "codemirror_mode": {
        "name": "ipython",
        "version": 3
      },
      "file_extension": ".py",
      "mimetype": "text/x-python",
      "name": "python",
      "nbconvert_exporter": "python",
      "pygments_lexer": "ipython3",
      "version": "3.6.0"
    },
    "colab": {
      "name": "PythonintroI.ipynb",
      "provenance": [],
      "include_colab_link": true
    }
  },
  "cells": [
    {
      "cell_type": "markdown",
      "metadata": {
        "id": "view-in-github",
        "colab_type": "text"
      },
      "source": [
        "<a href=\"https://colab.research.google.com/github/NumericAnalysis/Numeric_Analysis_restricted-access/blob/main/Python-intro.ipynb\" target=\"_parent\"><img src=\"https://colab.research.google.com/assets/colab-badge.svg\" alt=\"Open In Colab\"/></a>"
      ]
    },
    {
      "cell_type": "markdown",
      "metadata": {
        "id": "jJ2B8o6sBuv8"
      },
      "source": [
        "# Computational Physics FIZ4610 \n",
        "\n",
        "## Computational Physics\n",
        "\n",
        "|Instructor| Prof. Dr Murat Oduncuoğlu|\n",
        "|--|---------------------------------------|\n",
        "|Email | murato@yildiz.edu.tr|\n",
        "|Office| E1050|\n",
        "|Office hours | Mon/Wed 8:30 - 10:00 |\n",
        "\n",
        "# Python Basics\n",
        "\n"
      ]
    },
    {
      "cell_type": "code",
      "metadata": {
        "colab": {
          "base_uri": "https://localhost:8080/"
        },
        "id": "GJq7dZ-dBuv-",
        "outputId": "dacf4451-4f42-4a66-d3fb-63c276badc41"
      },
      "source": [
        "#get started\n",
        "print(\"hello, this is Computational Physics FIZ4610\")"
      ],
      "execution_count": 1,
      "outputs": [
        {
          "output_type": "stream",
          "text": [
            "hello, this is Computational Physics FIZ4610\n"
          ],
          "name": "stdout"
        }
      ]
    },
    {
      "cell_type": "markdown",
      "metadata": {
        "id": "kvbP4shVBuv_"
      },
      "source": [
        "# 1.2 Variables and types\n",
        "    Variable names in Python can contain alphanumerical characters a-z, A-Z, 0-9 and some special characters such as _. \n",
        "    Normal variable names must start with a letter.\n",
        "    By convention, variable names start with a lower-case letter, and Class names start with a capital letter.\n",
        "    In addition, there are a number of Python keywords that cannot be used as variable names. \n",
        "    $ and, as, assert, print......\n",
        "    \n"
      ]
    },
    {
      "cell_type": "code",
      "metadata": {
        "collapsed": true,
        "id": "lrRydMPVBuwA"
      },
      "source": [
        "# variable assignments\n",
        "#The assignment operator in Python is =. \n",
        "#Python is a dynamically typed language, different from C/C++, no need to specify the type of a variable\n",
        "\n",
        "x = 1.0"
      ],
      "execution_count": null,
      "outputs": []
    },
    {
      "cell_type": "code",
      "metadata": {
        "id": "QMQvhwqrBuwB",
        "outputId": "b19b19a6-8a62-456b-bf71-d9b27b2e7876"
      },
      "source": [
        "print(x, type(x))"
      ],
      "execution_count": null,
      "outputs": [
        {
          "output_type": "stream",
          "text": [
            "1.0 <class 'float'>\n"
          ],
          "name": "stdout"
        }
      ]
    },
    {
      "cell_type": "code",
      "metadata": {
        "id": "RwPtf_WrBuwB",
        "outputId": "cbcfc737-7720-49b8-b1af-f3deb233d2e0"
      },
      "source": [
        "my_variable = 12\n",
        "print(my_variable, type(my_variable))"
      ],
      "execution_count": null,
      "outputs": [
        {
          "output_type": "stream",
          "text": [
            "12 <class 'int'>\n"
          ],
          "name": "stdout"
        }
      ]
    },
    {
      "cell_type": "code",
      "metadata": {
        "collapsed": true,
        "id": "mQlHnqzLBuwC"
      },
      "source": [
        "# Fundamental Variables and types\n",
        "# integers\n",
        "# float\n",
        "# bollean\n",
        "# complex\n",
        "a = 1\n",
        "b = 2.0\n",
        "c = True\n",
        "d = 1+1.0j"
      ],
      "execution_count": null,
      "outputs": []
    },
    {
      "cell_type": "code",
      "metadata": {
        "id": "J6FfBIQpBuwC",
        "outputId": "6c385f53-3c59-4c26-efe4-905cc079e943"
      },
      "source": [
        "print(a, type(a))\n",
        "print(b, type(b))\n",
        "print(c, type(c))\n",
        "print(d, type(d))"
      ],
      "execution_count": null,
      "outputs": [
        {
          "output_type": "stream",
          "text": [
            "1 <class 'int'>\n",
            "2.0 <class 'float'>\n",
            "True <class 'bool'>\n",
            "(1+1j) <class 'complex'>\n"
          ],
          "name": "stdout"
        }
      ]
    },
    {
      "cell_type": "markdown",
      "metadata": {
        "id": "u7DEOT2GBuwD"
      },
      "source": [
        "# Quiz: \n",
        "    1, how to find the real and imaginary part for a complex variable\n",
        "    2, why do we need to set different types of variables for interger and float, instead of using just complex type?\n",
        "    3, how to define the variables in other languages like Matlab, C, C++, Java?"
      ]
    },
    {
      "cell_type": "code",
      "metadata": {
        "collapsed": true,
        "id": "ZHaIDnamBuwD"
      },
      "source": [
        ""
      ],
      "execution_count": null,
      "outputs": []
    },
    {
      "cell_type": "markdown",
      "metadata": {
        "id": "qLWNz7J6BuwE"
      },
      "source": [
        "# 1.3 Operators and comparisons\n",
        "\n",
        "    Most operators and comparisons in Python work as one would expect:\n",
        "\n",
        "    Arithmetic operators +, -, *, /, // (integer division), '**' power\n"
      ]
    },
    {
      "cell_type": "code",
      "metadata": {
        "id": "PL2hlLU4BuwE",
        "outputId": "492a0752-9fe6-446a-bcb7-f350ce57dd75"
      },
      "source": [
        "x, y = 1, 2\n",
        "print(x+y, x-y, x*y, x/y, x//y, y**x)\n",
        "print(x>y, x==y, x<y)"
      ],
      "execution_count": null,
      "outputs": [
        {
          "output_type": "stream",
          "text": [
            "3 -1 2 0.5 0 2\n",
            "False False True\n"
          ],
          "name": "stdout"
        }
      ]
    },
    {
      "cell_type": "code",
      "metadata": {
        "id": "kqSgohQQBuwF",
        "outputId": "d3169578-7954-4929-cde9-100772092be7"
      },
      "source": [
        "# Advanced functions? sin, cos\n",
        "from math import sin, cos\n",
        "print(sin(x), cos(x))"
      ],
      "execution_count": null,
      "outputs": [
        {
          "output_type": "stream",
          "text": [
            "0.8414709848078965 0.5403023058681398\n"
          ],
          "name": "stdout"
        }
      ]
    },
    {
      "cell_type": "code",
      "metadata": {
        "id": "u0Woc408BuwF",
        "outputId": "423a43fc-fb70-4a1a-d0ac-7f2f8dad9aff"
      },
      "source": [
        "# we can also do string calculations!\n",
        "str1 = 'welcome' \n",
        "str2 = 'UNLV'\n",
        "print(str1+str2)"
      ],
      "execution_count": null,
      "outputs": [
        {
          "output_type": "stream",
          "text": [
            "welcomeUNLV\n"
          ],
          "name": "stdout"
        }
      ]
    },
    {
      "cell_type": "markdown",
      "metadata": {
        "id": "cZBxUokwBuwF"
      },
      "source": [
        "# 1.4 Compound types\n",
        "\n",
        "## Strings\n",
        "## List\n",
        "## Dictionaries (_after-class study_)"
      ]
    },
    {
      "cell_type": "code",
      "metadata": {
        "id": "1dm8WFOCBuwG",
        "outputId": "5bdf4745-3661-47d4-c8c7-321b7a646a46"
      },
      "source": [
        "Strings = \"Welcome to Physics 300\"\n",
        "print(Strings, type(Strings))"
      ],
      "execution_count": null,
      "outputs": [
        {
          "output_type": "stream",
          "text": [
            "Welcome to Physics 300 <class 'str'>\n"
          ],
          "name": "stdout"
        }
      ]
    },
    {
      "cell_type": "code",
      "metadata": {
        "id": "3Sh-NUhuBuwG",
        "outputId": "6c7a67b2-3d1c-4602-adc7-dd5c9fca5746"
      },
      "source": [
        "Lists = ['Welcome to Physics 300']\n",
        "print(Lists, type(Lists))"
      ],
      "execution_count": null,
      "outputs": [
        {
          "output_type": "stream",
          "text": [
            "['Welcome to Physics 300'] <class 'list'>\n"
          ],
          "name": "stdout"
        }
      ]
    },
    {
      "cell_type": "markdown",
      "metadata": {
        "id": "2airH6X5BuwG"
      },
      "source": [
        "# Quiz: What are the differences?"
      ]
    },
    {
      "cell_type": "code",
      "metadata": {
        "collapsed": true,
        "id": "ZuffbpUHBuwH"
      },
      "source": [
        "# a few more tricks\n",
        "# len(Strings)\n",
        "# dir(Strings), check its attributes\n",
        "# help(Strings.replace)\n",
        "#dir(Strings)\n",
        "#help(Strings.isalpha)\n",
        "#dir(Lists)"
      ],
      "execution_count": null,
      "outputs": []
    },
    {
      "cell_type": "code",
      "metadata": {
        "id": "osNHLDW8BuwH",
        "outputId": "72b4a09c-4428-45c9-813f-9bce786ba7ab"
      },
      "source": [
        "# Lists are very similar to strings, except that each element can be of any type.\n",
        "# You can do different types of operations on List\n",
        "# List is like an array, you can call its elements according to index\n",
        "# You can call one element, and many element as well\n",
        "\n",
        "Lists.append(2)\n",
        "print(Lists)"
      ],
      "execution_count": null,
      "outputs": [
        {
          "output_type": "stream",
          "text": [
            "['Welcome to Physics 300', 2]\n"
          ],
          "name": "stdout"
        }
      ]
    },
    {
      "cell_type": "markdown",
      "metadata": {
        "id": "9WI7NYH8BuwH"
      },
      "source": [
        "# for loops\n",
        "In python, we can visit the list by for loop. The most common is the for loop, which is used together with iterable objects, such as lists. The basic syntax is:\n",
        "\n"
      ]
    },
    {
      "cell_type": "code",
      "metadata": {
        "id": "BKg8M8lfBuwI",
        "outputId": "7c4470f7-2b44-4665-b56e-f206d4549d70"
      },
      "source": [
        "for x in [1,2,3]:\n",
        "    print(x)"
      ],
      "execution_count": null,
      "outputs": [
        {
          "output_type": "stream",
          "text": [
            "1\n",
            "2\n",
            "3\n"
          ],
          "name": "stdout"
        }
      ]
    },
    {
      "cell_type": "markdown",
      "metadata": {
        "id": "r-WJU65TBuwI"
      },
      "source": [
        "# Exercise\n",
        "In 1888 Johannes Rydberg published his famous formula for the wavelengths $\\lambda$ of the emissioon lines of the hydrogen atom \n",
        "\n",
        "\n",
        "$$\\frac{1}{\\lambda} = R (\\frac{1}{m^2} - \\frac{1}{n^2})$$\n",
        "\n",
        "Where $R$ is the Rydberg constant = 1.097 $\\times$ $10^{-2} \\text{nm}^{-1}$, $m$ and $n$ are positive integers. For a given value of $m$, $\\lambda$ is given for this formula for all $n>m$ series, the first three series are known as the Lyman, Belmer and Paschen series, named after their discoverers. Can you write a code to compute the first three series for the first five lines?"
      ]
    },
    {
      "cell_type": "code",
      "metadata": {
        "id": "H9m4Q0LRBuwI",
        "outputId": "eeee00f0-53b8-46f3-a2cc-2b919e957931"
      },
      "source": [
        "R = 1.097e-2\n",
        "for m in [1,2,3]:\n",
        "    print(\"Series for m = \", m)\n",
        "    for k in [1,2,3,4,5]:\n",
        "        n = m + k\n",
        "        invlambda = R*(1.0/m**2 - 1/n**2)\n",
        "        print(\"n=\",n, \"  \", 1/invlambda, \"nm\")\n",
        "        #print m, n, 1/m**2, 1/n**2\n"
      ],
      "execution_count": null,
      "outputs": [
        {
          "output_type": "stream",
          "text": [
            "Series for m =  1\n",
            "n= 2    121.5436037678517 nm\n",
            "n= 3    102.55241567912488 nm\n",
            "n= 4    97.23488301428137 nm\n",
            "n= 5    94.95594044363415 nm\n",
            "n= 6    93.76220862091418 nm\n",
            "Series for m =  2\n",
            "n= 3    656.3354603463993 nm\n",
            "n= 4    486.1744150714068 nm\n",
            "n= 5    434.084299170899 nm\n",
            "n= 6    410.2096627164995 nm\n",
            "n= 7    397.04243897498225 nm\n",
            "Series for m =  3\n",
            "n= 4    1875.2441724182836 nm\n",
            "n= 5    1281.9051959890612 nm\n",
            "n= 6    1093.8924339106654 nm\n",
            "n= 7    1005.013673655424 nm\n",
            "n= 8    954.6697605038536 nm\n"
          ],
          "name": "stdout"
        }
      ]
    },
    {
      "cell_type": "code",
      "metadata": {
        "collapsed": true,
        "id": "qY1d_qeABuwI"
      },
      "source": [
        ""
      ],
      "execution_count": null,
      "outputs": []
    }
  ]
}