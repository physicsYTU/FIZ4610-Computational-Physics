{
  "nbformat": 4,
  "nbformat_minor": 0,
  "metadata": {
    "colab": {
      "name": "Errors.ipynb adlı not defterinin kopyası",
      "private_outputs": true,
      "provenance": [],
      "collapsed_sections": [],
      "include_colab_link": true
    },
    "kernelspec": {
      "name": "python3",
      "display_name": "Python 3"
    },
    "language_info": {
      "name": "python"
    }
  },
  "cells": [
    {
      "cell_type": "markdown",
      "metadata": {
        "id": "view-in-github",
        "colab_type": "text"
      },
      "source": [
        "<a href=\"https://colab.research.google.com/github/NumericAnalysis/Numeric_Analysis_restricted-access/blob/main/Errors_ipynb_adl%C4%B1_not_defterinin_kopyas%C4%B1.ipynb\" target=\"_parent\"><img src=\"https://colab.research.google.com/assets/colab-badge.svg\" alt=\"Open In Colab\"/></a>"
      ]
    },
    {
      "cell_type": "code",
      "metadata": {
        "id": "9VL8cfj6CbQ7"
      },
      "source": [
        ""
      ],
      "execution_count": null,
      "outputs": []
    },
    {
      "cell_type": "markdown",
      "metadata": {
        "id": "6v4W9SK1Cczo"
      },
      "source": [
        "# Contents\n",
        "\n",
        "1. Introduction\n",
        "2. Phthon, Matlab, C++\n",
        "3. Numerical Truncation, Precision and Overﬂow\n",
        "4. Numerical Diﬀerentiation\n",
        "5. Roots, Maxima, Minima (closed methods)\n",
        "6. Roots, Maxima, Minima (open methods)\n",
        "7. Numerical Integration: Trapezoidal and Simpson’s formulae\n",
        "8. Solution of D.E.s: Runge-Kutta, and Finite-Diﬀerence\n",
        "9. Random Variables and Frequency Experiments\n",
        "10. Monte-Carlo Methods\n",
        "11. Artificial Intelligence\n",
        "12. Deep Learning\n",
        "13. Quantum Computing\n",
        "14. Review\n",
        "\n"
      ]
    },
    {
      "cell_type": "markdown",
      "metadata": {
        "id": "4wto-k5yUrhf"
      },
      "source": [
        "You may use a computational, **scientiﬁc problem-solving keys**\n",
        "\n",
        "Define Problem → Theory/Model → Algorithm ↔ Visualization -Verification"
      ]
    },
    {
      "cell_type": "markdown",
      "metadata": {
        "id": "O4WT_agVJ5nN"
      },
      "source": [
        "##   Making Computers Obey \n",
        "\n",
        "The best programs are written so that computing machines can \n",
        "perform them quickly and so that human beings can understand them\n",
        " clearly. A programmer is ideally an essayist who works with\n",
        " traditional aesthetic and literary forms as well as mathematical concepts, to communicate the way that an algorithm works and to\n",
        "convince a reader that the results will be correct.\n",
        " *- Donald E. Knuth"
      ]
    },
    {
      "cell_type": "markdown",
      "metadata": {
        "id": "zonHo75AKsNL"
      },
      "source": [
        "A **shell**\n",
        "is a *command-line interpreter*, that is, a set of small programs run by\n",
        "a computer that respond to the commands (the names of the programs) that\n",
        "you key in. Usually you open a special window to access the shell, and this window\n",
        "is called a shell as well. It is helpful to think of these shells as the\n",
        "outer layers of the computer’s operating system (OS) (Figure 2.1),\n",
        "within which lies a\n",
        "**kernel**\n",
        "of elementary operations. (The user seldom interacts directly with the kernel, except possibly when installing\n",
        "programs or when building an operating system from scratch.) It is the\n",
        "job of the shell to run programs, compilers, and utilities that do\n",
        "things like copying files. There can be different types of shells on a\n",
        "single computer or multiple copies of the same shell running at the same\n",
        "time.\n",
        "\n",
        "Operating systems have names such as **Unix, Linux, DOS, MacOS**, and **MS\n",
        "Windows**. The **operating system**\n",
        "is a group of programs used by the computer to communicate with users\n",
        "and devices, to store and read data, and to execute programs. The OS\n",
        "tells the computer what to do in an elementary way. The OS views you,\n",
        "other devices, and programs as input data for it to process; in many\n",
        "ways, it is the indispensable office manager. While all this may seem\n",
        "complicated, the purpose of the OS is to let the computer do the\n",
        "nitty-gritty work so that you can think higher-level thoughts and\n",
        "communicate with the computer in something closer to your normal\n",
        "everyday language. system\n",
        "\n",
        "When you submit a program to your computer in a **high-level\n",
        "language**\n",
        "the computer uses a compiler to process it. The\n",
        "**compiler**\n",
        "is another program that treats your program as a foreign language and\n",
        "uses a built-in dictionary and set of rules to translate it into basic\n",
        "machine language. As you can probably imagine, the final set of\n",
        "instructions is quite detailed and long and the compiler may make\n",
        "several passes through your program to decipher your logic and translate\n",
        "it into a fast code. The translated statements form an **object** or\n",
        "compiled code, and when **linked** together with other needed subprograms,\n",
        "form a load module. A *load module* is a complete set of machine\n",
        "language instructions that can be **loaded** into the computer’s memory\n",
        "and read, understood, and followed by the computer.\n",
        "\n",
        "Languages such as\n",
        "**Fortran**\n",
        "**C** use compilers to read your entire program and then translate it into\n",
        "basic machine instructions. Languages such as **BASIC** and **Maple**\n",
        "translate each line of your program as it is entered. Compiled languages\n",
        "usually lead to more efficient programs and permit the use of vast\n",
        "subprogram libraries. Interpreted languages give a more immediate\n",
        "response to the user and thereby appear **“friendlier.”** The Python and\n",
        "Java languages are a mix of the two. When you first compile your\n",
        "program, Python interprets it into an intermediate, universal **byte\n",
        "code**\n",
        "which gets stored as a PYC (or PYO) file. This file can be transported\n",
        "to and used on other computers, although not with different versions of\n",
        "Python. Then, when you run your program, Python recompiles the byte code\n",
        "into a machine-specific compiled code, which is faster than interpreting\n",
        "source code line by line."
      ]
    },
    {
      "cell_type": "markdown",
      "metadata": {
        "id": "Cqt74T6ILlCj"
      },
      "source": [
        "Programming is a written art that blends elements of science,\n",
        "mathematics, and computer science into a set of instructions that permit\n",
        "a computer to accomplish a desired task. \n",
        "\n",
        "The grammar of\n",
        "a computer language, a scientific program should include a number of\n",
        "essential elements to ensure the program’s validity and useability. As\n",
        "with other arts, we suggest that until you know better, you follow some\n",
        "simple rules. \n",
        "##A good program should\n",
        "\n",
        "-   Give the correct answers.\n",
        "\n",
        "-   Be clear and easy to read, with the action of each part easy\n",
        "    to analyze.\n",
        "\n",
        "-   Document itself for the sake of readers and the programmer.\n",
        "\n",
        "-   Be easy to use.\n",
        "\n",
        "-   Be built up out of small programs that can be\n",
        "    independently verified.\n",
        "\n",
        "-   Be easy to modify and robust enough to keep giving correct answers\n",
        "    after modification and simple debugging.\n",
        "\n",
        "-   Document the data formats used.\n",
        "\n",
        "-   Use trusted libraries.\n",
        "\n",
        "-   Be published or passed on to others to use and to develop further.\n",
        "\n",
        "One attraction of **object-oriented programming** is that it enforces\n",
        "these rules automatically. An elementary way to make any program clearer\n",
        "is to **structure** it with indentation, skipped lines, and parentheses placed strategically.This is performed to provide visual clues to the function of the different program parts (the “structures” in structured\n",
        "programming). In fact, Python uses indentations as structure elements as\n",
        "well as for clarity. Although the space limitations of a printed page\n",
        "keep us from inserting as many blank lines as we would prefer, we\n",
        "recommend that you do as we say and not as we do!\n"
      ]
    },
    {
      "cell_type": "code",
      "metadata": {
        "id": "J1uabebKMwKM"
      },
      "source": [
        "xy=12.345\n",
        "Pi = 3.141593\n",
        "Age=39                    # Output from either\n",
        "print(\"xy=%6.3f,  Pi=%9.6f,  Age=%d \\n\") \n",
        "(xy, Pi, Age)\n",
        "\n",
        "              "
      ],
      "execution_count": null,
      "outputs": []
    },
    {
      "cell_type": "code",
      "metadata": {
        "id": "BauzaLrHPit8"
      },
      "source": [
        "#import sys\n",
        "print(\"Hello \\n\")\n",
        "print(\"\\t Computational Physics\")     #tabulator\n",
        "b=4610\n",
        "print(\"decimal 4610 as integer b = %d \"%(b))  #for integer\n",
        "print(\"as octal b = %o\"%(b))   #octal\n",
        "print(\"as hexadecimal b = %x \"%(b))   #works hexadecimal\n",
        "print(\"learn \\\"Python\\\" \")   #use of double quote symbol\n",
        "print(\"shows a backslash \\\\\") #use of \\\\\n",
        "print('use of single \\' quotes \\' ')  #print single quotes"
      ],
      "execution_count": null,
      "outputs": []
    },
    {
      "cell_type": "code",
      "metadata": {
        "id": "hnWkA3bgQJ3y"
      },
      "source": [
        "# program contains error in order to throw an exception\n",
        "\n",
        "import sys\n",
        "from math import pi\n",
        "from sys import version\n",
        "\n",
        "if int(version[0])>2:      #raw_input deprecated in Python 3\n",
        "    raw_input=input  \n",
        "r = 2\n",
        "circum = 2.* pi* r                        # Calculate circum\n",
        "A = pi*r**2                               # Calculate A\n",
        "try: \n",
        "    q = open(\"ThrowCatch.dat\",'w')    #intentional mistake 'r', but run with it\n",
        "                                      #change 'r' by 'w' and run again\n",
        "except  IOError:\n",
        "    print ('Cannot open file')\n",
        "else:     \n",
        "    q.write(\"r = %9.6f, length = %9.6f, A= %9.6f \"%(r, circum, A))\n",
        "        \n",
        "    q.close()\n",
        "    print ('output in ThrowCatch.dat')\n",
        "    #catch(IOException ex){ex.printStackTrace(); }   # Catch"
      ],
      "execution_count": null,
      "outputs": []
    },
    {
      "cell_type": "code",
      "metadata": {
        "id": "9_thcmtiMIqJ"
      },
      "source": [
        "# area\n",
        "\n",
        "from __future__ import  print_function\n",
        "from numpy import *\n",
        "from sys import version\n",
        "if int(version[0])>2:\n",
        "    raw_input=input\n",
        "\n",
        "name=raw_input('Key in your name :')           # input  good for strings           \n",
        "print('Hi ',name)\n",
        "\n",
        "radius=eval(raw_input('Enter a radius: '))     # OK for numbers\n",
        "print('you entered radius= %8.5f'%radius)  # formatted output\n",
        "name=raw_input('Key in another name:')         # input OK for strings\n",
        "radius= eval(raw_input('Enter a radius'))\n",
        "print('Enter new Name and r in file Name.dat')\n",
        "inpfile=open('Name.dat','r')                 #to read from file Name.dat\n",
        "for line in inpfile:\n",
        "    line=line.split()            #splits components of line\n",
        "    name=line[0]                 #first entry in the list\n",
        "    print(\" Hi  %10s\" %(name))    #print Hi plus first entry          \n",
        "    r=float(line[1])             #second entry convert to float (it is a string)\n",
        "    print(\" r = %13.5f\" %(r))     #converts x to float and print it\n",
        "inpfile.close()\n",
        "A=math.pi*r**2                   #use radius to find circles's area\n",
        "print(\"Done, look in A.dat\\n\")\n",
        "outfile=open('A.dat','w')\n",
        "outfile.write( 'r=  %13.5f\\n'%(r))\n",
        "outfile.write('A =  %13.5f\\n'%(A))\n",
        "outfile.close()\n",
        "print('r = %13.5f'%(r))           #screen output    \n",
        "print('A = %13.5f'%(A))             \n",
        "print('Now example of integer input ')\n",
        "age=int(eval(raw_input ('Now key in your age as an integer:  ')))\n",
        "print(\"age: %4d  years old,  you don't look it!\\n\"%(age))"
      ],
      "execution_count": null,
      "outputs": []
    },
    {
      "cell_type": "markdown",
      "metadata": {
        "id": "g_QzzAK6DWsi"
      },
      "source": [
        "# Numerical Truncation, Precision and Overﬂow\n",
        "\n",
        "\n",
        "## Topics Covered\n",
        "ntroduction to numerical methods; Taylor’s expansion and truncation errors; round-oﬀ errors, overﬂow; precision of data types in Python Matlab C++.\n",
        "\n",
        "It is important to understand that, in general, numerical methods are not exact; neither are the machines (computers) that perform the numerical calculations for us. In this lecture, we will look at the nature of truncation errors and round-oﬀ errors. An understanding of these sources of errors in numerical methods is\n",
        "as important as an understanding of the methods themselves.\n",
        "\n",
        "\n"
      ]
    },
    {
      "cell_type": "markdown",
      "metadata": {
        "id": "1osveyW5QgGh"
      },
      "source": [
        "Computers may be powerful, but they are finite.\n",
        "\n",
        " A problem in computer design is how to represent an arbitrary number using a\n",
        "finite amount of memory space and then how to deal with the limitations\n",
        "arising from this representation. As a consequence of computer memories\n",
        "being based on the magnetic or electronic realizations of a spin\n",
        "pointing up or down, the most elementary units of computer memory are\n",
        "the two binary integers (*bits*) 0 and 1. This means that all numbers\n",
        "are stored in memory in\n",
        "*binary*\n",
        "form, that is, as long strings of zeros and ones. Accordingly, *N* bits\n",
        "can store integers in the range \\[0, 2<sup>*N*</sup>\\], yet because the\n",
        "sign of the integer is represented by the first bit (a zero bit for\n",
        "positive numbers), the actual range for N-bit integers decreases to\n",
        "\\[0, 2<sup>*N* − 1</sup>\\].\n",
        "\n",
        "Long strings of zeros and ones are fine for computers but are awkward\n",
        "for humans. For this reason, binary strings are converted to *octal*,\n",
        "*decimal*, or *hexadecimal* numbers before the results are communicated\n",
        "to people. Octal and hexadecimal numbers are nice because the conversion\n",
        "maintains precision, but not all that nice because our decimal rules of\n",
        "arithmetic do not work for octals and hex’s. Converting to decimal\n",
        "numbers makes the numbers easier for us to work with, but unless the\n",
        "original number is a power of 2, the conversion decreases precision.\n",
        "\n",
        "A description of a particular computer’s system or language normally\n",
        "states the *word\n",
        "length* ,\n",
        "that is, the number of bits used to store a number. The length is often\n",
        "expressed in\n",
        "*bytes*i\n",
        "(a mouthful of bits) where\n",
        "1*b**y**t**e* ≡ 1*B* = 8*b**i**t**s*.\n",
        " Memory and storage sizes are measured in bytes, kilobytes, megabytes,\n",
        "gigabytes, terabytes, and petabytes (10<sup>15</sup>). Some care should\n",
        "be taken here by those who chose to compute sizes in detail ,because K\n",
        "does not always mean 1000:\n",
        "\n",
        "$$\n",
        "    1 \\mbox{K}  =  1  \\mbox{kB} = 2^{10}  \\mbox{bytes} =\n",
        "1024 \\mbox{bytes} .$$\n",
        "\n",
        "This is often (and confusingly) compensated for when memory size is\n",
        "stated in K, for example,\n",
        "\n",
        "$$512 \\mbox{K} = 2^{9}\n",
        "\\mbox{bytes} = 524,288         \\mbox{bytes} \\times\n",
        " \\frac{1  \\mbox{K}} { 1024         \\mbox{bytes}} .$$\n",
        "\n",
        "Conveniently, 1 byte is also the amount of memory needed to store a\n",
        "single letter like “a”, which adds up to a typical printed page\n",
        "requiring ∼3*k**B*.\n",
        "\n",
        "The memory chips in some older personal computers used 8-bit words, with\n",
        "modern PC’s using 64 bits . This meant that the maximum integer was a\n",
        "rather small 2<sup>7</sup> = 128 (7 because 1 bit is used for the sign).\n",
        "Using 64 bits permits integers in the range\n",
        "1−2<sup>63</sup> ≃ 10<sup>19</sup>. While at first this may seem like a\n",
        "large range, it really is not when compared to the range of sizes\n",
        "encountered in the physical world. As a case in point, the size of the\n",
        "universe compared to the size of a proton covers a scale of\n",
        "10<sup>41</sup>. Trying to store a number larger than the hardware or\n",
        "software was designed for\n",
        " *overflow* \n",
        "was common on older machines, but is less so now. An overflow is\n",
        "sometimes accompanied by an informative error message , and sometimes\n",
        "not."
      ]
    },
    {
      "cell_type": "markdown",
      "metadata": {
        "id": "o7RSh_Lg3-CQ"
      },
      "source": [
        "# NUMERICAL ERROR\n",
        "\n",
        "When doing numerical calculations, we should be aware that numerical results are not always mathematically sensical. For instance, using the same example earlier with x = 10−7, we obtain the following,"
      ]
    },
    {
      "cell_type": "code",
      "metadata": {
        "id": "hzhMBvPC5G9B"
      },
      "source": [
        "print(5 * 4)\n",
        "print(3.1 * 2)\n",
        "print(4.0 / 2.0)\n",
        "print(1.0 / 3.1)\n",
        "print(3.**2)\n",
        "print(3**2)\n",
        "print(2**0.5)"
      ],
      "execution_count": null,
      "outputs": []
    },
    {
      "cell_type": "code",
      "metadata": {
        "id": "-Hqp5yP05bhF"
      },
      "source": [
        "import numpy as np\n",
        "print(np.exp(1))\n",
        "import numpy as np\n",
        "print(np.log(10))\n",
        "print(np.log10(10))  # base10"
      ],
      "execution_count": null,
      "outputs": []
    },
    {
      "cell_type": "code",
      "metadata": {
        "id": "FJOdYeW35p8h"
      },
      "source": [
        "import numpy as np\n",
        "def f(x):\n",
        "    return x**3 - np.log(x)\n",
        "\n",
        "print(f(3))\n",
        "print(f(5.1))"
      ],
      "execution_count": null,
      "outputs": []
    },
    {
      "cell_type": "code",
      "metadata": {
        "id": "kEiOGyM75uq_"
      },
      "source": [
        "import numpy as np\n",
        "\n",
        "def f(x):\n",
        "    \"return the inverse square of x\"\n",
        "    x = np.array(x)\n",
        "    return 1.0 / x**2\n",
        "\n",
        "print(f(3))\n",
        "print(f([4,5]))"
      ],
      "execution_count": null,
      "outputs": []
    },
    {
      "cell_type": "code",
      "metadata": {
        "id": "ktyHR8Gk4Br7"
      },
      "source": [
        "import numpy as np\n",
        "x=1.e-7\n",
        "a=(1-x*x)**(0.5)\n",
        "a"
      ],
      "execution_count": null,
      "outputs": []
    },
    {
      "cell_type": "code",
      "metadata": {
        "id": "Hgrkzd6yBYax"
      },
      "source": [
        "%precision\n",
        "1−a"
      ],
      "execution_count": null,
      "outputs": []
    },
    {
      "cell_type": "code",
      "metadata": {
        "id": "iPzh0Hr96Jph"
      },
      "source": [
        "f = lambda x,y: x + y\n",
        "print(f)\n",
        "print(f(2, 3))"
      ],
      "execution_count": null,
      "outputs": []
    },
    {
      "cell_type": "code",
      "metadata": {
        "id": "fn_FibZP58Vn"
      },
      "source": [
        "from scipy.integrate import odeint\n",
        "import numpy as np\n",
        "import matplotlib.pyplot as plt\n",
        "\n",
        "k = 2.2\n",
        "def myode(y, t):\n",
        "    \"ode defining exponential growth\"\n",
        "    return k * y\n",
        "\n",
        "y0 = 3\n",
        "tspan = np.linspace(0,1)\n",
        "y =  odeint(myode, y0, tspan)\n",
        "\n",
        "plt.plot(tspan, y)\n",
        "plt.xlabel('Time')\n",
        "plt.ylabel('y')\n",
        "plt.savefig('images/funcs-ode.png')"
      ],
      "execution_count": null,
      "outputs": []
    },
    {
      "cell_type": "markdown",
      "metadata": {
        "id": "kNI2XQM2xdy3"
      },
      "source": [
        "## Numerical Methods\n",
        "\n",
        "\n",
        "We apply numerical techniques to solve numerical problems when analytical solutions are diﬃcult or inconvenient. A simple example is the computation of the ﬁrst derivative of a function f(x). Calculus gives us an analytical method for forming an expression for the derivative, however, such analysis for some functions may be diﬃcult, impossible, or inconvenient. A simple numerical solution uses the Forward-Diﬀerence Approximation (FDA) that approximates the derivative by taking the gradient of the function f(x) in the region x to x+h:\n",
        "\n",
        "**FDA = ( f(x+h) - f(x) ) / h**\n",
        "\n",
        "where h is small but not zero.\n",
        "\n",
        "For example if   **f(x) = 2x^2 + 4x + 6**\n",
        "\n",
        "and we wish to determine the ﬁrst derivative evaluated at **x = 4**, the FDA (using **h=0.01**) gives:\n",
        "\n",
        "( (2 * 4.01^2+ 4 * 4.01 + 6 ) -(2 * 4.00^2+ 4 * 4.00 + 6 ) )/ 0.01 = 20.02.\n",
        "\n",
        "Of course this is only an approximation (the true value, by calculus, is 20).\n",
        "\n",
        "     plot [0:5] 2*x**2+4*x+6\n",
        "\n"
      ]
    },
    {
      "cell_type": "code",
      "metadata": {
        "id": "FCsXOQfe0RSX"
      },
      "source": [
        "x1=4.01\n",
        "x2=4\n",
        "\n",
        "v1 = 2 * (x1)**2 + 4 * x1 + 6\n",
        "v2 = 2 * (x2)**2 + 4 * x2 + 6\n",
        "v3 = (v1-v2)/0.01\n",
        "\n",
        "v3"
      ],
      "execution_count": null,
      "outputs": []
    },
    {
      "cell_type": "markdown",
      "metadata": {
        "id": "1-qh8QaIUPEs"
      },
      "source": [
        "##Experimental Error Investigation\n",
        "\n",
        "Numerical algorithms play a vital role in computational physics. Your problem is to take a general algorithm and decide\n",
        "\n",
        "* Does it converge?\n",
        "\n",
        "* How precise are the converged results?\n",
        "\n",
        "* How expensive (time-consuming) is it?\n",
        "\n",
        "On first thought you may think, “What a dumb problem! All algorithms converge if enough terms are used, and if you want more precision, then use more terms.” Well, some algorithms may be asymptotic expansions that just approximate a function in certain regions of parameter space and converge only up to a point. Yet even if a uniformly convergent power series is used as the algorithm, including more terms will decrease the algorithmic error but will also increase the round-off errors. And because round-off errors eventually diverge to infinity, the best we can hope for is a “best” approximation. Good algorithms are good not only because they are fast but also because they require fewer steps and thus incur less round-off error.\n",
        "\n",
        "---\n",
        "Whether you are careful or not, errors and uncertainties are part of computation. Some errors are the ones that humans inevitably make, but some are introduced by the computer.\n",
        "\n",
        "Computer errors arise because of the limited *precision with which computers store numbers or because algorithms or models can fail. Although it stifles creativity to keep thinking ’error’ when approaching a computation, it certainly is a waste of time, and possibly harmful, to work with results that are meaningless (’garbage’) because of errors. In this chapter we examine some of the errors and uncertainties that may occur in computations. Although we do not keep repeating a mantra about watching for errors, the lessons of this chapter apply to all other chapters as well.*\n",
        "\n",
        "Our general **types of error** exist to plague your computations:\n",
        "\n",
        "1. Blunders or bad theory: typographical errors entered with your program or data, running the wrong program or having a fault in your reasoning (theory), using the wrong data file, and so on. (If your blunder count starts increasing, it may be time to go home or take a break.)\n",
        "\n",
        "2. Random errors: imprecision caused by events such as fluctuations in electronics, cosmic rays, or someone pulling a plug.These may be rare, but you have no control over them and their likelihood increases with running time; while you may have confidence in a 20 second calculation, a week-long calculation may have to be run multiple times to check reproducibility.\n",
        "\n",
        "3. Approximation errors: imprecision arising from simplifying the mathematics so that a problem can be solved on the computer. They include the replacement of infinite series by finite sums, infinitesimal intervals by finite ones, and variable functions by constants. \n",
        "\n",
        "4. Round-off errors: imprecision arising from the finite number of digits used to store floating-point numbers. These “errors” are analogous to the uncertainty in the measurement of a physical quantity encountered in an elementary physics laboratory. The overall round-off error accumulates as the computer handles more numbers, that is, as the number of steps in a computation increases. This may cause some algorithms to become unstable with a rapid increase IN error. In some cases, round-off error may become the major component in your answer, leading to what computer experts call garbage.\n",
        "\n",
        "For example, if your computer kept four decimal places, then it will store $\\frac\n",
        "{1}{3}$ as 0.3333 and $\\frac{2}{3}$ as 0.6667, where the computer has\n",
        "“rounded off” the last digit in $\\frac{2}{3}$. Accordingly, if we ask the computer\n",
        "to do as simple a calculation as $2(\\frac{1}{3})-\\frac{2}{3}$, it produces\n",
        "\n",
        "$$\\begin{align}\n",
        "\\\n",
        "    2*\\left(\\frac{1}{3}\\right) - \\frac{2}{3}\n",
        "    = 0.6666    - 0.6667 = -0.0001 \\neq 0.\n",
        " \\end{align}$$\n",
        "\n",
        "So although the result is small, it is not 0, and if we repeat this type\n",
        "of calculation millions of times, the final answer might not even be\n",
        "small (small garbage begets large garbage).\n",
        "\n",
        "\n",
        "the floating-point number\n",
        "\n",
        "$$\\\n",
        "    a =11223344556677889900 = 1.12233445566778899 \\times\n",
        "    10^{19}.$$\n",
        "\n",
        "Because the exponent is stored separately and is a small number, we may\n",
        "assume that it will be stored in full precision. In contrast, some of\n",
        "the digits of the mantissa may be truncated. In double precision, the\n",
        "mantissa of *a* will be stored in two words, the *most significant part*\n",
        "representing the decimal 1.12233, and the *least significant part* 8445566778. **The digits beyond 7 are lost**. As we shall see soon, when we\n",
        "perform calculations with words of fixed length, it is inevitable that\n",
        "errors will be introduced (at least) into the least significant parts of\n",
        "the words."
      ]
    },
    {
      "cell_type": "markdown",
      "metadata": {
        "id": "I45y38v0ykB8"
      },
      "source": [
        "\n",
        "\n",
        "## Truncation Errors\n",
        "\n",
        "The error in the above approximation can be written as **FDA - f’(x) = 20.02 - 20 = 0.02**. This is called a *truncation error* as it is due to the truncation of higher orders in the exact expression for the ﬁrst derivative.\n",
        "\n",
        "We can see the form of the truncation error in the FDA by considering Taylors expansion:\n",
        "\n",
        "**f(x+h) = f(x) + h.f‘(x)/1! + h^2.f‘‘(x)/2! + h^3.f‘‘‘(x)/3! + ....**\n",
        "\n",
        "Rearrange for the FDA:\n",
        "\n",
        "( f(x+h) - f(x) ) / h = f‘(x) + h.f‘‘(x)/2 + h^2.f‘‘‘(x)/6 + ....\n",
        "\n",
        "=>**FDA = f‘(x) + (h/2).f‘‘(x) + O(h^2)**\n",
        " \n",
        " The fird-st term ( f‘(x) ) is the **derivative**, the second term is the **truncation error** in the *FDA*\n",
        "\n",
        "We see that the FDA gives the ﬁrst derivative plus some extra terms in the series. The error in the approximation **FDA - f’(x)** is therefore (h/2).f“(x) + O(h). This can be checked numerically with the above example: (h/2).f“(x) = (0.01/2) x (4) = 0.02 (as found above). The truncation error in the FDA is proportional\n",
        "to h, the FDA is therefore called a *ﬁrst-order approximation*. Higher-order methods have truncation errors that are proportional to higher powers of h and therefore yield smaller truncation errors (when h is less than one).\n",
        "\n",
        "We will investigate the round-oﬀ error in the above calculation at the end of the next section.\n"
      ]
    },
    {
      "cell_type": "code",
      "metadata": {
        "id": "Ec7PsKRDZZn_"
      },
      "source": [
        "# If we only do once\n",
        "1 + 1/3 - 1/3\n"
      ],
      "execution_count": null,
      "outputs": []
    },
    {
      "cell_type": "code",
      "metadata": {
        "id": "ypNHBLOgZgGy"
      },
      "source": [
        "def add_and_subtract(iterations):\n",
        "    result = 1\n",
        "    \n",
        "    for i in range(iterations):\n",
        "        result += 1/3\n",
        "\n",
        "    for i in range(iterations):\n",
        "        result -= 1/3\n",
        "    return result"
      ],
      "execution_count": null,
      "outputs": []
    },
    {
      "cell_type": "code",
      "metadata": {
        "id": "Mvfm5ySWZk0s"
      },
      "source": [
        "# If we do this 100 times\n",
        "add_and_subtract(100)"
      ],
      "execution_count": null,
      "outputs": []
    },
    {
      "cell_type": "code",
      "metadata": {
        "id": "tE2HHFxLZles"
      },
      "source": [
        "# If we do this 1000 times\n",
        "add_and_subtract(1000)"
      ],
      "execution_count": null,
      "outputs": []
    },
    {
      "cell_type": "code",
      "metadata": {
        "id": "jYePKIgFZofb"
      },
      "source": [
        "# If we do this 10000 times\n",
        "add_and_subtract(10000)"
      ],
      "execution_count": null,
      "outputs": []
    },
    {
      "cell_type": "code",
      "metadata": {
        "id": "iwPus95Jr2ra"
      },
      "source": [
        "# Implementation of matplotlib function \n",
        "    \n",
        "import matplotlib.pyplot as plt\n",
        "\n",
        "\n",
        "# x_cords = range(-5,5)\n",
        "x_cords = range(0,5)\n",
        "y_cords = [2*x**2 + 4*x + 6 for x in x_cords]\n",
        "\n",
        "# the function, which is y = x^2 here\n",
        "# y = x**2\n",
        "\n",
        "\n",
        "# naming the x axis\n",
        "plt.xlabel('x - axis')\n",
        "# naming the y axis\n",
        "plt.ylabel('y - axis')\n",
        "# giving a title to my graph\n",
        "plt.title('My first graph!')\n",
        "\n",
        "\n",
        "plt.plot(x_cords, y_cords)\n",
        "plt.show()"
      ],
      "execution_count": null,
      "outputs": []
    },
    {
      "cell_type": "code",
      "metadata": {
        "id": "KVc4bvigs_xa"
      },
      "source": [
        "import matplotlib.pyplot as plt\n",
        "import numpy as np\n",
        "\n",
        "# 100 linearly spaced numbers\n",
        "x = np.linspace(-np.pi,np.pi,100)\n",
        "\n",
        "# the function, which is y = sin(x) here\n",
        "# y=x**2\n",
        "# y=x**3\n",
        "# y=2x+4\n",
        "# z = np.cos(x)\n",
        "\n",
        "y = np.sin(x)\n",
        "\n",
        "\n",
        "# setting the axes at the centre\n",
        "fig = plt.figure()\n",
        "ax = fig.add_subplot(1, 1, 1)\n",
        "ax.spines['left'].set_position('center')\n",
        "ax.spines['bottom'].set_position('center')\n",
        "ax.spines['right'].set_color('none')\n",
        "ax.spines['top'].set_color('none')\n",
        "ax.xaxis.set_ticks_position('bottom')\n",
        "ax.yaxis.set_ticks_position('left')\n",
        "\n",
        "# plot the function\n",
        "plt.plot(x,y, 'b', label='y=sin(x)')\n",
        "\n",
        "plt.legend(loc='upper left')\n",
        "\n",
        "# show the plot\n",
        "plt.show()\n",
        "\n",
        "# plot the functions\n",
        "#plt.plot(x,2*y, 'c', label='y=2sin(x)')\n",
        "#plt.plot(x,3*y, 'r', label='y=3sin(x)')\n",
        "\n"
      ],
      "execution_count": null,
      "outputs": []
    },
    {
      "cell_type": "markdown",
      "metadata": {
        "id": "B7N8XnTlBuVu"
      },
      "source": [
        "#Truncation error\n",
        "\n",
        "To produce a concrete result, we normally use a practical method, or an algorithm, for the calculation. There is usually a difference between the obtained result and the exact result. This is known as the truncation error. The size of the error should be dependent on the method, and unlike round-off error, it is entirely under our control by the choice of the method.\n",
        "\n",
        "![image.png](data:image/png;base64,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)\n",
        "\n",
        "Figure: Approximating the circumference of a circle by polygons.\n",
        "\n",
        "As an illustrative example, let us calculate the circumference of a unit circle approximated by the perimeter of a regular polygon inside the circle shown in Figure. For an n-sided regular polygon, adding up all the sides yields the perimeter\n",
        "$p_2n \\frac{pi}{n}$"
      ]
    },
    {
      "cell_type": "markdown",
      "metadata": {
        "id": "bR-LRhQsyNuc"
      },
      "source": [
        "## Computer Precision (Round-oﬀ Errors)\n",
        "\n",
        "Numerical methods are implemented in computer programs where the numerical calculations can be performed quickly and conveniently. However, numbers are stored in computer memory with a limited precision; the loss of precision of a value is called a round-oﬀ error. Round-oﬀ errors can occur when a value is initially\n",
        "assigned, and can be compounded when values are combined in arithmetic operations. Iteration is common in computational methods and so it is important to minimise compound roundoﬀ.\n",
        "\n",
        "As round-oﬀ errors can be a signiﬁcant source of error in a numerical method (in addition to the truncation error) we will look more closely at the nature of the round-oﬀ error and how it can be reduced. A binary representation is used to store numbers in computer memory. For example the binary number\n",
        "**11.011** represents exactly the decimal number **3.375**:\n",
        "\n",
        "**1**            **1**   .   **0**          **1**          **1** =\n",
        "\n",
        "**1**x2^1 + **1**x2^0 + **0**x2^(-1)  + **1***2^(-2) + **1**2^(-2) = **3.375**\n",
        "\n",
        "Similarly the decimal value 0.3125 can be expanded to\n",
        "\n",
        "**0.25 + 0.0625 = 1/4 + 1/16 ** \n",
        "\n",
        "that can be stored exactly in binary as 0.0101. However, given a limited number of binary digits, it is possible that even a rational\n",
        "decimal number might not be stored precisely in binary. For example there is no precise representation for **0.3**; the nearest representation with **8 bits** is **0.01001101** that gives **0.30078125**. The precision increases as more binary digits are used, but there is always a round-oﬀ error. In general, the only real numbers that can be represented exactly in the computer’s memory are those that can be written in the form **m/2^k**\n",
        "where m and k are integers; however, again there is a limit to the set of numbers that are included in this group due to the limited number of binary digits used to store the value.\n",
        "                         \n",
        "\n",
        "*In Brief:*\n",
        "The difference between an approximation of a number used in computation and its correct (true) value is called a **round-off error**. It is one of the common errors found usually in numerical calculations. The other one is truncation error. The difference is that truncation error is the error made by truncating an inﬁnite sum and approximating it by a ﬁnite sum.\n"
      ]
    },
    {
      "cell_type": "markdown",
      "metadata": {
        "id": "jiU_0BW6BkCN"
      },
      "source": [
        "#Round-off error\n",
        "\n",
        "Round-off error can occur in arithmetic operations of floating point numbers for several reasons. The floats may not be exactly representable, or some significant bits are lost during shifting. Even if the floats are exactly representable or no shifting is involved, the intermediate results could require more mantissa bits to hold the full accuracy than the working precision could provide, resulting in rounding off.\n",
        "\n",
        "The severity of round-off error varies. The above example is a case of round-off errors due to cancellation of two floats (1 − a) within close proximity of each other, leading to a severe loss of accuracy. We cannot eliminate round-off error. But with proper choice of methods (algorithms), we may be able to control or minimize its impact as seen above."
      ]
    },
    {
      "cell_type": "markdown",
      "metadata": {
        "id": "Zg6z8fYWSnHU"
      },
      "source": [
        "### Machine Precision (Model)\n",
        "\n",
        "\n",
        "A major concern of computational scientists is that the floating-point\n",
        "representation used to store numbers is of limited precision. As we have\n",
        "shown, for a 32-bit-word machine, *single-precision numbers are good to\n",
        "6-7 decimal places, while doubles are good to 15-16 places*. To see how\n",
        "limited precision affects calculations, consider the simple computer\n",
        "addition of two single-precision numbers:\n",
        "\n",
        "$$ \n",
        "    7  +  1.0 \\times 10^{-7} \\;= \\;?$$\n",
        "\n",
        "The computer fetches these numbers from memory and stores the bit\n",
        "patterns\n",
        "\n",
        "$$\\begin{align}  \n",
        "  7    & =  0\\ \\ 1000 0010\\ \\      1100\\ 0000\\ 0000\\ 0000\\ 0000\\ 000  ,\\\\\n",
        "    10^{-7}  & =  0\\ \\        0110 0000\\ \\        1101\\ 0110\\ 1011\\ 1111\\ 1001\\ 010 , \n",
        "   \\end{align}$$\n",
        "\n",
        "in *working registers* (pieces of fast-responding memory). Because the\n",
        "exponents are different, it would be incorrect to add the mantissas, and\n",
        "so the exponent of the smaller number is made larger while progressively\n",
        "decreasing the mantissa by *shifting bits* to the right (inserting\n",
        "zeros) until both numbers have the same exponent:\n",
        "\n",
        "$$\\begin{align}\n",
        "    10^{-7} & =   0\\ \\    0110 0001 \\ \\      0110\\ 1011\\ 0101\\ 1111\\ 1100 101\\ (0) \\\\\n",
        "    & =   0\\ \\    0110 0010 \\ \\  0011\\ 0101\\ 1010\\\n",
        "1111\\ 1110 010\\ (10)\\\\ \n",
        "    & \\cdots        \\\\\n",
        "  & =  0\\ \\     1000 0010\\ \\    0000\\ 0000\\ 0000\\ 0000\\\n",
        "0000\\ 000\\ (0001101\\cdots0 \\\\ & \\Rightarrow \\hspace{12ex} 7 + 1.0\n",
        "\\times 10^{-7} = 7. \n",
        " \\end{align}$$\n",
        "\n",
        "Because there is no room left to store the last digits, they are lost,\n",
        "and after all this hard work the addition just gives 7 as the answer\n",
        "(truncation error in Figure 2.3). In other words, because a 32-bit\n",
        "computer stores only 6 or 7 decimal places, it effectively ignores any\n",
        "changes beyond the sixth decimal place.\n",
        "\n",
        "The preceding loss of precision is categorized by defining the *machine\n",
        "precision*\n",
        "*ϵ*<sub>*m*</sub> as the maximum positive number that, on the computer,\n",
        "can be added to the number stored as 1 without changing that stored 1:\n",
        "$$ \n",
        " 1_{c} +  \\epsilon_{m}  =   1_{c},$$\n",
        "\n",
        "where the subscript *c* is a reminder that this is a computer representation of\n",
        "1.Consequently, an arbitrary number *x* can be thought of as related to its\n",
        "floating-point representation *x*<sub>*c*</sub> by \n",
        "$$ \n",
        " x_{c}  = x (1 \\pm \\epsilon),\\quad |\\epsilon| \\leq \\epsilon_m ,$$\n",
        "\n",
        "where the actual value for *ϵ* is not known. In other words, except for\n",
        "powers of 2 that are represented exactly, we should assume that all\n",
        "single-precision numbers contain an error in the sixth decimal place and\n",
        "that all doubles have an error in the fifteenth place. And as is always\n",
        "the case with errors, we must assume that we really do not know what the\n",
        "error is, for if we knew, then we would eliminate it! Consequently, the\n",
        "arguments we are about to put forth regarding errors should be\n",
        "considered approximate, but that is to be expected for unknown errors."
      ]
    },
    {
      "cell_type": "code",
      "metadata": {
        "id": "JOBvTOU7ijQt"
      },
      "source": [
        "a = 3    # for integer number\n",
        "\n",
        "# Base 2(binary)\n",
        "bin_a = bin(a)\n",
        "print(bin_a,\"binary\")\n",
        "print(int(bin_a, 2),\"decimal\")   #Base 2(binary)\n",
        "\n",
        "# Prefix\n",
        "# 0b      (zero + lowercase letter 'b')\n",
        "# 0B      (zero + uppercase letter 'B')\t    for Binary\t2"
      ],
      "execution_count": null,
      "outputs": []
    },
    {
      "cell_type": "code",
      "metadata": {
        "id": "vu6m51qvTFhD"
      },
      "source": [
        "#determines machine precision \n",
        "\n",
        "from __future__ import print_function\n",
        "\n",
        "N = 10\n",
        "eps = 1.0\n",
        "\n",
        "for i in range(N):\n",
        "    eps = eps/2\n",
        "    one_Plus_eps = 1.0  +  eps\n",
        "    print('one  +  eps = ', one_Plus_eps)\n",
        "    print('eps = ', eps)"
      ],
      "execution_count": null,
      "outputs": []
    },
    {
      "cell_type": "markdown",
      "metadata": {
        "id": "6hz28fpbkGTW"
      },
      "source": [
        "**Example:** \n",
        "* Write Python code for converting a decimal number to it’s binary equivalent and vice-versa.(for integer numbers)\n",
        "\n",
        "* Write Python code for converting a decimal number to it’s binary equivalent and vice-versa. (for rational numbers)\n",
        "\n",
        "*From decimal to binary*\n",
        "\n",
        "Input (Decimal) : 8\n",
        "\n",
        "Output (Binary) : 1 0 0 0\n",
        "\n",
        "*From binary  to decimal*\n",
        "\n",
        "Input (Binary)   : 100\n",
        "\n",
        "Output (Decimal) : 4"
      ]
    },
    {
      "cell_type": "markdown",
      "metadata": {
        "id": "S38mFHr6lWMe"
      },
      "source": [
        "## Floating-Point Representation\n",
        "\n",
        "Real numbers are represented on computers in either *fixed-point* or\n",
        "*floating-point* notation. *Fixed-point notation* can be used for\n",
        "numbers with a fixed number of places beyond the decimal point (radix)\n",
        "or for integers. \n",
        "\n",
        "The number of bits is usually ﬁxed for any given computer. Using binary representation gives us an insufﬁcient range and precision of numbers to do relevant engineering calculations. To achieve the range of values needed with the same number of bits, we use **ﬂoating point** numbers, or **ﬂoats** for short. Instead of utilizing each bit as the coefﬁcient of a power of 2, ﬂoats allocate bits to three different parts:\n",
        "the **sign indicator**, s, which says whether a number is positive or negative; characteristic or exponent,\n",
        "\n",
        "\n",
        "Most scientific computations use double-precision floating-point numbers\n",
        "with 64*b* = 8*B*. The *floating-point representation* of numbers on\n",
        "computers is a binary version of what is commonly known as *scientific*\n",
        "or *engineering notation*. For example, the speed of light\n",
        "**c** = +2.99792458 × 10<sup>+8</sup>**m/s** in scientific notation and\n",
        "+0.299792458 × 10<sup>+9</sup> or 0.299795498 E09 m/s in engineering\n",
        "notation. In each of these cases, the number in front is called the\n",
        "*mantissa*\n",
        "\n",
        "\n",
        "Computers store REAL numbers (as  opposed to INTEGER numbers) in the ﬂoating-point representation value = m b^e\n",
        "where m is the mantissa, b is the base (= 2 in computers) and e is the exponent. \n",
        "\n",
        "In C/C++, a type ”ﬂoat” number is stored in 32 binary bits (4 bytes) [this is equivalent to a ”real” in Fortran]. \n",
        "\n",
        "To allow for a large exponent range the binary bits available for storage are shared between the mantissa and the exponent of the number. For example the number 413.26 is represented by a mantissa part and an exponent part as 0.41326x10^3. The division of the 32 binary bits are as follows: 8 bits are used for to store\n",
        "the exponent, 1 bit for the sign of the exponent, and 23 bits for the mantissa. The precision of the storage\n",
        "of real data is therefore limited by the 23 bits used to store the mantissa.\n",
        "\n",
        "\n",
        "In Fortran the number of binary bits used to store type real numbers can be increased from the default 32 to 64 or 128 by declaring the type ”real” data with the kind speciﬁer. The default single-precision data has kind=4 where each data is stored in 4 bytes (32 binary bits) of memory. Double-precision data (kind=8) is allocated 8 bytes (64 binary bits) [this is equivalent to a ”double” in C/C++] and quad-precision (kind=16) 16 bytes (128 binary bits). Double precision has about twice the precision as single precision and a much larger range in the exponent, quad precision has more than four times the precision and a very large range in the exponent. The three real kinds are illustrated below.\n",
        "\n",
        "|**Type and Kind**  | real (kind=4 )*     \\\\  * default kind in Fortran.\n",
        "|:|:|\n",
        "|**Memory allocation** | 4 bytes ( 32 bits) \n",
        "**Precision** | 7 s.f. (Single)     \\\\s.f. = \"significant figures\".\n",
        "**Range** |  10^38\n",
        "**C/C++**   | \"float\"\n",
        "------------\n",
        "|**Type and Kind**  | real (kind=8 )*     \\\\  * default kind in Fortran.\n",
        "**Memory allocation**  | 8 bytes ( 64 bits) \n",
        "**Precision** | 15 s.f. (Double)     \\\\s.f. = \"significant figures\".\n",
        "**Range** | 10^308\n",
        "**C/C++** | \"double\"\n",
        "-----\n",
        "**Type and Kind**  | real (kind=16 )*     \\\\  * default kind in Fortran.\n",
        "**Memory allocation**  | 16 bytes ( 128 bits) \n",
        "**Precision** | 34 s.f. (Quad)     \\\\s.f. = \"significant figures\".\n",
        "**Range** | 10^34931\n",
        "**C/C++** | \"long double\" + \\\\ + only on 64 bit platforms.\n",
        "----\n",
        "\n",
        "**Table** The Institute of Electrical and Electronics Engineers (IEEE) IEEE 754 Standard for Primitive Data Types.\n",
        "\n",
        "|*Name*| *Type* | *Bits* | *Bytes*| *Range*| \n",
        "|- - -|- - -|- - -|- - -|- - -|\n",
        "|`boolean` | Logical | 1 |$\\frac{1}{8}$| `true` or `false` | \n",
        "|`char` |String | 16 |2| ’\\u0000’- ’\\uFFFF’ (ISO Unicode characters) | \n",
        "|`byte` |Integer | 8 | 1 | -128 $\\leftrightarrow$ +127| \n",
        "|`short`|Integer | 16 | 2 |-32,768 $\\leftrightarrow$ +32,767| \n",
        "|`int` |Integer | 32 | 4|-2,147,483,648 $\\leftrightarrow$ +2,147,483,647| \n",
        "|`long` |Integer |64 | 8 | -9,223,372,036,854,775,808 $\\leftrightarrow$ 9,223,372,036,854,775,807| \n",
        "|`float` |Floating | 32 | 4 |$\\pm 1.401298\\times 10^{-45} \\leftrightarrow \\pm 3.402923\\times 10^{+38}$| \n",
        "|`double`|Floating | 64 | 8 | $\\pm 4.94065645841246544\\times 10^{-324} \\leftrightarrow \\pm 1.7976931348623157\\times 10^{+308}$| \n",
        "\n",
        "\n",
        "A limitation is also placed on the range of values that be be stored, this is illustrated for single-precision\n",
        "type real data below:\n",
        "\n",
        "                            \n",
        " overflow  -10^38     \n",
        " underflow -10^-45 +10^-45   \n",
        " overflow   +10^38\n",
        "\n",
        "Numbers that are larger than the largest ﬂoating point number capable of being represented result in **overﬂow**; Python handles this case by assigning the result to inf. Numbers that are smaller than the smallest subnormal number result in **underﬂow**; Python handles this case by assigning the result to zero."
      ]
    },
    {
      "cell_type": "code",
      "metadata": {
        "id": "nnbij-vvmJHJ"
      },
      "source": [
        "f = 1.2\n",
        "f1 = 2e400\n",
        "f2= 5 + 2j\n",
        "string=\"hello\"\n",
        "\n",
        "f"
      ],
      "execution_count": null,
      "outputs": []
    },
    {
      "cell_type": "code",
      "metadata": {
        "id": "faCco0AamkjP"
      },
      "source": [
        "type(f2)\n"
      ],
      "execution_count": null,
      "outputs": []
    },
    {
      "cell_type": "code",
      "metadata": {
        "id": "DYTG81r1oFp4"
      },
      "source": [
        "a, b = 3, 4\n",
        "print(a,b)"
      ],
      "execution_count": null,
      "outputs": []
    },
    {
      "cell_type": "code",
      "metadata": {
        "id": "ZJhbDDxxqJhB"
      },
      "source": [
        "fl1 =  1.79e308\n",
        "fl2 =  1.8e308\n",
        "fl3 =  5e-324\n",
        "fl4 =  1e-325\n",
        "\n",
        "print(\"fl1 = \",fl1, \"    \", \"fl3 = \", fl3)\n",
        "# print(\"fl2 =\", fl2)  # print for fl2\n",
        "# print(\"fl4 = \",fl4)  # print for fl4"
      ],
      "execution_count": null,
      "outputs": []
    },
    {
      "cell_type": "code",
      "metadata": {
        "id": "foYG7-pf4fNX"
      },
      "source": [
        ""
      ],
      "execution_count": null,
      "outputs": []
    },
    {
      "cell_type": "markdown",
      "metadata": {
        "id": "iTlaMhpS1C_k"
      },
      "source": [
        "Note that the underscore symbol is used to deﬁne the precision of the constant; if this is not used then some precision might be lost, or unpredictable values assigned to some of the least signiﬁcant digits. \n",
        "\n",
        "We will see later in the course how double- and quad-precision can greatly reduce round-oﬀ errors in numerical methods.\n",
        "\n",
        "*Remember*: although double- and quad-precision can reduce round-oﬀ errors they have no eﬀect on the size of truncation errors; truncation errors are inherent to the numerical method and not to the internal representation of numbers in a computer."
      ]
    },
    {
      "cell_type": "code",
      "metadata": {
        "id": "aQEXaatZ4jWI"
      },
      "source": [
        ""
      ],
      "execution_count": null,
      "outputs": []
    },
    {
      "cell_type": "markdown",
      "metadata": {
        "id": "0IS2Bdke1jQK"
      },
      "source": [
        "Example:\n",
        "The expression  ((a+b)^2 - 2.a.b - b^2) / a^2 reduces to a^2 / a^2 = 1. But computed in a machine with limited precision can give unexpected results\n"
      ]
    },
    {
      "cell_type": "code",
      "metadata": {
        "id": "IJkyfxOL2Bff"
      },
      "source": [
        "4.9 - 4.845 == 0.055"
      ],
      "execution_count": null,
      "outputs": []
    },
    {
      "cell_type": "code",
      "metadata": {
        "id": "ZeyQofFT2pBR"
      },
      "source": [
        "0.1 + 0.2 + 0.3 == 0.6"
      ],
      "execution_count": null,
      "outputs": []
    },
    {
      "cell_type": "code",
      "metadata": {
        "id": "QXfeZfdz27jb"
      },
      "source": [
        "import sys\n",
        "sys.float_info"
      ],
      "execution_count": null,
      "outputs": []
    },
    {
      "cell_type": "code",
      "metadata": {
        "id": "BWNu730T4lGJ"
      },
      "source": [
        "2**(-1075)"
      ],
      "execution_count": null,
      "outputs": []
    },
    {
      "cell_type": "markdown",
      "metadata": {
        "id": "HILldqCw5pBM"
      },
      "source": [
        "Example : *test for precision*\n",
        "\n",
        "The following programs (in Python MATLAB and C++) implement the Forward-Diﬀerence Approximation algorithm using single-precision.\n",
        "\n",
        "Tabulate\n",
        "\n",
        "|**h**|FDA|t.e|r.e\n",
        "|:-|:-|:-|:-\n",
        "|**h=0.1**|..|..|..|\n",
        "|**h = 0.1**|..|..|..|\n",
        "|**h=0.001**|..|..|..|\n",
        "|**h=0.0001**|..|..|..|\n",
        "|**h=0.00001**|..|..|..|\n",
        "\n",
        "\n",
        "[C++]\n",
        "\n",
        " \\#include $<$iostream$>$\n",
        "\n",
        "float f(float x) { return 2*x*x + 4*x + 6; }\n",
        "\n",
        "int main() {\n",
        "\n",
        "float h = 0.1;\n",
        "\n",
        "std::cout << \"FDA = \"\n",
        "\n",
        "<< (f(3.0+h)-f(3.0))/h\n",
        "\n",
        "<< std::endl;\n",
        "\n",
        "}"
      ]
    },
    {
      "cell_type": "code",
      "metadata": {
        "id": "hIFwHvTnRtlo"
      },
      "source": [
        ""
      ],
      "execution_count": null,
      "outputs": []
    },
    {
      "cell_type": "markdown",
      "metadata": {
        "id": "b9mJkZIX5bLa"
      },
      "source": [
        "## SUMMARY\n",
        "\n",
        "1. Numbers may be represented in several different ways, each representation scheme having advantages and disadvantages.\n",
        "2. Computers must represent numbers using a ﬁnite number of digits (i.e., bits).\n",
        "3. Binary and IEEE754 are ﬁnite representations of numbers used by computers.\n",
        "4. The round-off error is an important error associated with numerical methods.\n",
        "\n",
        "* Errors are inevitable when coding. Errors are important because they tell you that something is not working the way you intended.\n",
        "\n",
        "* There are three types of errors: syntax errors, exceptions, and logical errors.\n",
        "\n",
        "* You can reduce the numbers of errors in your coding with good coding practice.\n",
        "\n",
        "* Try-except statements can be used to handle exceptions without stopping your code. However, try-except statements should never be used in place of good practice to manage errors.\n",
        "\n",
        "* The Debugger is a Python tool for helping you find errors.\n",
        "\n"
      ]
    },
    {
      "cell_type": "markdown",
      "metadata": {
        "id": "kBfPwvZh6c0_"
      },
      "source": [
        ""
      ]
    },
    {
      "cell_type": "code",
      "metadata": {
        "id": "4w01_1QI6b_v"
      },
      "source": [
        "from scipy.integrate import quad\n",
        "\n",
        "print(quad(lambda x: x**2, 0, 2))"
      ],
      "execution_count": null,
      "outputs": []
    }
  ]
}
