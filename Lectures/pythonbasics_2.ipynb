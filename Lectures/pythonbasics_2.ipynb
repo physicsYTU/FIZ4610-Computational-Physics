{
  "nbformat": 4,
  "nbformat_minor": 0,
  "metadata": {
    "kernelspec": {
      "display_name": "Python 3",
      "language": "python",
      "name": "python3"
    },
    "language_info": {
      "codemirror_mode": {
        "name": "ipython",
        "version": 3
      },
      "file_extension": ".py",
      "mimetype": "text/x-python",
      "name": "python",
      "nbconvert_exporter": "python",
      "pygments_lexer": "ipython3",
      "version": "3.6.1"
    },
    "colab": {
      "name": "pythonbasics-2.ipynb",
      "provenance": [],
      "include_colab_link": true
    }
  },
  "cells": [
    {
      "cell_type": "markdown",
      "metadata": {
        "id": "view-in-github",
        "colab_type": "text"
      },
      "source": [
        "<a href=\"https://colab.research.google.com/github/NumericAnalysis/Numeric_Analysis_restricted-access/blob/main/pythonbasics_2.ipynb\" target=\"_parent\"><img src=\"https://colab.research.google.com/assets/colab-badge.svg\" alt=\"Open In Colab\"/></a>"
      ]
    },
    {
      "cell_type": "markdown",
      "metadata": {
        "id": "VCtRGy7XWS74"
      },
      "source": [
        "# Physics 4610\n",
        "## Computational Physics "
      ]
    },
    {
      "cell_type": "markdown",
      "metadata": {
        "id": "4J8umAnzWS77"
      },
      "source": [
        "#  Python Basics\n",
        "## User inputs\n",
        "input( ) accepts input and stores it as a string. Hence, if the user inputs a integer, the code should convert the string to an integer and then proceed."
      ]
    },
    {
      "cell_type": "code",
      "metadata": {
        "colab": {
          "base_uri": "https://localhost:8080/"
        },
        "id": "wIG0MBw9WS77",
        "outputId": "a83f61a7-a4df-44aa-dbaa-94b5837f128c"
      },
      "source": [
        "x=input(\"type a value for x: \")\n",
        "y=input(\"type a value for y: \")\n",
        "print('x+y=', x+y)"
      ],
      "execution_count": 2,
      "outputs": [
        {
          "output_type": "stream",
          "text": [
            "type a value for x: 3\n",
            "type a value for y: 4\n",
            "x+y= 34\n"
          ],
          "name": "stdout"
        }
      ]
    },
    {
      "cell_type": "code",
      "metadata": {
        "collapsed": true,
        "id": "PI-he837WS79"
      },
      "source": [
        "#Is there anything wrong, how to fix it?"
      ],
      "execution_count": 3,
      "outputs": []
    },
    {
      "cell_type": "markdown",
      "metadata": {
        "id": "G6kIvuikWS79"
      },
      "source": [
        "# Exercise\n",
        "Let us revisit the program which we wrote for the Rydberg equation\n",
        "\n",
        "$$\\frac{1}{\\lambda} = R (\\frac{1}{m^2} - \\frac{1}{n^2})$$\n",
        "\n",
        "Where $R$ is the Rydberg constant = 1.097 $\\times$ $10^{-2} \\text{nm}^{-1}$, $m$ and $n$ are positive integers. \n",
        "For a given value of $m$, $\\lambda$ is given for this formula for all $n>m$ series, \n",
        "Can we write a program to let the user define m and n from the terminal?\n",
        "\n",
        "```python\n",
        "R = 1.097e-2\n",
        "for m in [1,2,3]:\n",
        "    print \"Series for m = \", m\n",
        "    for k in [1,2,3,4,5]:\n",
        "        n = m + k\n",
        "        invlambda = R*(1.0/m**2 - 1/n**2)\n",
        "        print(\"n=\",n, \"  \", 1/invlambda, \"nm\")\n",
        "```\n"
      ]
    },
    {
      "cell_type": "code",
      "metadata": {
        "id": "UhKV85fYWS7-",
        "outputId": "dbd0ea8b-ad07-441f-d9e6-fe33a7f886a7"
      },
      "source": [
        "# A program to calculate the wavelength from m,n series proived by the user\n",
        "R = 1.097e-2\n",
        "m=int(input(\"type a value for m: \"))\n",
        "n=int(input(\"type a value for n: \"))\n",
        "        \n",
        "invlambda = R*(1.0/m**2 - 1/n**2)\n",
        "print(\"m=\",m, \", n=\",n, ', wavelength is', 1/invlambda, \"nm\")"
      ],
      "execution_count": null,
      "outputs": [
        {
          "output_type": "stream",
          "text": [
            "type a value for m: 4\n",
            "type a value for n: 5\n",
            "m= 4 , n= 5 , wavelength is 4051.453458928391 nm\n"
          ],
          "name": "stdout"
        }
      ]
    },
    {
      "cell_type": "markdown",
      "metadata": {
        "id": "sk8_254tWS7_"
      },
      "source": [
        "\n",
        "\n",
        "    \n"
      ]
    },
    {
      "cell_type": "markdown",
      "metadata": {
        "collapsed": true,
        "id": "iH5lUmkMWS7_"
      },
      "source": [
        "## Question:\n",
        "Here you can actually assign any values to m and n.\n",
        "\n",
        "But the definition says that n must be greater than m! \n",
        "\n",
        "Can we make something to remind the user to retype it if the value is wrong?\n",
        "\n"
      ]
    },
    {
      "cell_type": "code",
      "metadata": {
        "id": "NOhBIM2SWS7_",
        "outputId": "4bfe1b48-9404-447d-bdf5-60492f468f16"
      },
      "source": [
        "# Try to add something here to remind the user not to assign ridiculus numbers!\n",
        "R = 1.097e-2\n",
        "good_m = False\n",
        "while good_m is False:\n",
        "    m=int(input(\"type a positive integer value for m: \"))\n",
        "    if m <= 0:\n",
        "        print(\"m must be positive integer, please enter another number:\")\n",
        "    else:\n",
        "        good_m = True\n",
        "\n",
        "good_n = False\n",
        "while good_n is False:        \n",
        "    n=int(input(\"type positive integer value greater than m for n: \"))\n",
        "    if n<=m:\n",
        "        print(\"n must be greater than \", m, \",  please enter another number:\")\n",
        "    else:\n",
        "        good_n = True\n",
        "invlambda = R*(1.0/m**2 - 1/n**2)\n",
        "print(\"m=\",m, \", n=\",n, ', wavelength is', 1/invlambda, \"nm\")"
      ],
      "execution_count": null,
      "outputs": [
        {
          "output_type": "stream",
          "text": [
            "type a positive integer value for m: 3\n",
            "type positive integer value greater than m for n: 5\n",
            "m= 3 , n= 5 , wavelength is 1281.9051959890612 nm\n"
          ],
          "name": "stdout"
        }
      ]
    },
    {
      "cell_type": "markdown",
      "metadata": {
        "id": "9H_eJh6MWS8A"
      },
      "source": [
        "## Control Flow Statements\n",
        "## If\n",
        "\n",
        "if some_condition:\n",
        "\n",
        "    do something\n",
        "\n",
        "\n",
        "## If-else\n",
        "\n",
        "if some_condition:\n",
        "\n",
        "    do something\n",
        "\n",
        "else:\n",
        "\n",
        "    do something else\n",
        "    \n",
        "## if-elif-else\n",
        "\n",
        "if some_condition:\n",
        "\n",
        "    do case 1\n",
        "\n",
        "elif some_condition:\n",
        "\n",
        "    do case 2\n",
        "\n",
        "else:\n",
        "\n",
        "    do case 3\n",
        "    \n",
        "## for loop\n",
        "\n",
        "for variable in something:\n",
        "\n",
        "    do something\n",
        "    \n",
        "## While\n",
        "\n",
        "while some_condition:\n",
        "\n",
        "    algorithm\n",
        "    \n",
        "## Break\n",
        "\n",
        "    As the name says. It is used to break out of a loop when a condition becomes true when executing the loop.\n",
        "\n",
        "## Continue\n",
        "    This continues the rest of the loop. Sometimes when a condition is satisfied there are chances of the loop getting terminated. This can be avoided using continue statement.\n",
        "    \n",
        "## Tips\n",
        "1, Be aware that you must end up with : sign, when you write the sentence of condition\n",
        "\n",
        "2, Indentation is required by python\n"
      ]
    },
    {
      "cell_type": "markdown",
      "metadata": {
        "collapsed": true,
        "id": "f6Hx8GFZWS8A"
      },
      "source": [
        "## Quiz:\n",
        "What is the key diffrence between for and while?"
      ]
    },
    {
      "cell_type": "code",
      "metadata": {
        "collapsed": true,
        "id": "JYRThcY_WS8B"
      },
      "source": [
        "# Complete your code on the calculation of wave length!\n",
        "\n",
        "\n"
      ],
      "execution_count": null,
      "outputs": []
    },
    {
      "cell_type": "markdown",
      "metadata": {
        "id": "R3jbBh8DWS8B"
      },
      "source": [
        "## 2.3 Function\n",
        "\n",
        "Most of the times, In a algorithm the statements keep repeating and __it will be a tedious job to execute the same statements again and again__ and will consume a lot of memory and is not efficient. \n",
        "\n",
        "In order to avoid this, we can define a function here\n",
        "\n",
        "This is the basic syntax of a function\n",
        "\n",
        "```python\n",
        "def funcname(arg1, arg2,... argN):\n",
        "\n",
        "    ''' Document String'''\n",
        "\n",
        "    statements\n",
        "\n",
        "    return <value>\n",
        "```\n",
        "Read the above syntax as, A function by name \"funcname\" is defined, which accepts arguements \"arg1,arg2,....argN\". The function is documented and it is '''Document String'''. The function after executing the statements returns a \"value\"."
      ]
    },
    {
      "cell_type": "code",
      "metadata": {
        "id": "9vrVvf9lWS8B",
        "outputId": "6492d589-f3f9-4767-dc14-abc4777aabcf"
      },
      "source": [
        "# Try to add something here to remind the user not to assign ridiculus numbers!\n",
        "\n",
        "R = 1.097e-2\n",
        "\n",
        "def calc_lambda(m,n):\n",
        "    '''This is a function to calculate lambda based on m and n'''\n",
        "    return 1/(R*(1.0/m**2 - 1/n**2))\n",
        "\n",
        "\n",
        "good_m = False\n",
        "while good_m is False:\n",
        "    m=int(input(\"type a value for m: \"))\n",
        "    if m <= 0:\n",
        "        print(\"m must be positive integer, please enter another number:\")\n",
        "    else:\n",
        "        good_m = True\n",
        "\n",
        "good_n = False\n",
        "while good_n is False:        \n",
        "    n=int(input(\"type a value for n: \"))\n",
        "    if n<=m:\n",
        "        print \"n must be greater than \", m, \"please enter another number:\"\n",
        "    else:\n",
        "        good_n = True\n",
        "\n",
        "lambda_w = calc_lambda(m,n)\n",
        "print \"m=\",m, \", n=\",n, ', wavelength is', lambda_w, \"nm\""
      ],
      "execution_count": null,
      "outputs": [
        {
          "output_type": "stream",
          "text": [
            "type a value for m: 3\n",
            "type a value for n: 4\n",
            "m= 3 , n= 4 , wavelength is 820.419325433 nm\n"
          ],
          "name": "stdout"
        }
      ]
    },
    {
      "cell_type": "markdown",
      "metadata": {
        "id": "w3mKXWixWS8C"
      },
      "source": [
        "### Fibonacci number\n",
        "In mathematics, the Fibonacci numbers are the numbers in the following integer sequence, called the Fibonacci sequence, and characterized by the fact that every number after the first two is the sum of the two preceding ones:\n",
        "\n",
        "1, 1, 2, 3, 5, 8, 13, 21, 34, 55, 89, 144\n"
      ]
    },
    {
      "cell_type": "code",
      "metadata": {
        "id": "DpFFo-2pWS8C",
        "outputId": "bd53d33d-44b9-4411-90f8-a9ed9cb688ac"
      },
      "source": [
        "#Write a function here to compute fibonacci number\n",
        "def Fibonacci(N):\n",
        "    '''\n",
        "    This program is to calculate fibonacci number\n",
        "    Input: N (must be a positive integer number) \n",
        "    output: the Fibonacci series\n",
        "    '''\n",
        "\n",
        "    Fib_series = []\n",
        "    \n",
        "    for i in range(1,N+1):\n",
        "        if len(Fib_series)<=1:\n",
        "            Fib_series.append(1)\n",
        "        else:\n",
        "            Fib_series.append(Fib_series[-1] + Fib_series[-2])\n",
        "    return Fib_series\n",
        "\n",
        "print(Fibonacci(-1))\n",
        "print(Fibonacci(1))\n",
        "print(Fibonacci(2))\n",
        "print(Fibonacci(3))\n",
        "print(Fibonacci(4))\n",
        "print(Fibonacci(20))"
      ],
      "execution_count": null,
      "outputs": [
        {
          "output_type": "stream",
          "text": [
            "[]\n",
            "[1]\n",
            "[1, 1]\n",
            "[1, 1, 2]\n",
            "[1, 1, 2, 3]\n",
            "[1, 1, 2, 3, 5, 8, 13, 21, 34, 55, 89, 144, 233, 377, 610, 987, 1597, 2584, 4181, 6765]\n"
          ],
          "name": "stdout"
        }
      ]
    },
    {
      "cell_type": "markdown",
      "metadata": {
        "id": "h-8fmNahWS8D"
      },
      "source": [
        "### Lambda Functions\n",
        "These are small functions which are not defined with any name and carry a single expression whose result is returned. Lambda functions comes very handy when operating with lists. These function are defined by the keyword lambda followed by the variables, a colon and the respective expression."
      ]
    },
    {
      "cell_type": "code",
      "metadata": {
        "collapsed": true,
        "id": "vD9j0LamWS8D"
      },
      "source": [
        "z = lambda x: x * x\n"
      ],
      "execution_count": null,
      "outputs": []
    },
    {
      "cell_type": "code",
      "metadata": {
        "id": "Q4d47IRvWS8E",
        "outputId": "c69fe110-6a2e-4fce-850f-82bd7cf5fa2e"
      },
      "source": [
        "z(8)"
      ],
      "execution_count": null,
      "outputs": [
        {
          "output_type": "execute_result",
          "data": {
            "text/plain": [
              "64"
            ]
          },
          "metadata": {
            "tags": []
          },
          "execution_count": 13
        }
      ]
    },
    {
      "cell_type": "markdown",
      "metadata": {
        "id": "s8JYgXkeWS8E"
      },
      "source": [
        "## Exercise \n",
        "### Combinatorics and Two-state systems\n",
        "\n",
        "Suppose we are flipping three coins. How many possible outcomes are there?\n",
        "\n",
        "|Coin 1 | Coin 2| Coin 3|\n",
        "|:-----:|:-----:|:-----:|\n",
        "|H|H|H|\n",
        "|H|H|T|\n",
        "|H|T|H|\n",
        "|T|H|H|\n",
        "|H|T|T|\n",
        "|T|T|H|\n",
        "|T|H|T|\n",
        "|T|H|T|\n",
        "\n",
        "Since all coins are indistinguishable, we are more interested in how many heads are there in all outcomes?\n",
        "By simply counting the number from the above table, we know\n",
        "\n",
        "3 heads, HHH \n",
        "\n",
        "2 heads, HHT, HTH, THH\n",
        "\n",
        "1 head, HTT, TTH, THT\n",
        "\n",
        "0 head, TTT\n",
        "\n",
        "each state is called _microstate_.\n",
        "\n",
        "_microstate_: Each of the eight different outcomes\n",
        "\n",
        "_macrostate_: How many heads are there in all outcomes\n",
        "\n",
        "Although each microstate is equal to exist, but macrostates have different probabilies to explored. Clearly,\n",
        "2 heads is more likely to be found than 3 heads. Here we introduce another quantity,\n",
        "\n",
        "_multiplicity_ ($\\Omega$): the number of microstates in a given macrostate.\n",
        "\n",
        "In the context of coin games, let's define $\\Omega(n)$ as the number of cases when we get $n$ heads. If the total number\n",
        "of coins is $N$, we can derive the equations as follows,\n",
        "\n",
        "$$\\Omega(N,n) = = \\frac{N!}{n!\\cdot(N-n)!} = \\binom{N}{n}$$\n",
        "\n",
        "What will happen if we increase $N$. Let's try $N$ with different numbers (say 5, 10, 20) "
      ]
    },
    {
      "cell_type": "code",
      "metadata": {
        "id": "ExN1oIVFWS8F",
        "outputId": "e1d41c77-76d0-45e0-c2e6-3e9b929f629f"
      },
      "source": [
        "#Multiplicity calculation\n",
        "def factor(N):\n",
        "    if N == 0 or N == 1:\n",
        "        return 1\n",
        "    else: \n",
        "        total = 1\n",
        "        for i in range(2,N+1):\n",
        "            total *= i\n",
        "        return total     \n",
        "\n",
        "def Multiplicity(N,n):\n",
        "    return factor(N)/factor(n)/factor(N-n)\n",
        "    \n",
        "N=int(raw_input(\"type a value for N: \"))\n",
        "    \n",
        "    \n",
        "for n in range(N+1):\n",
        "    print 'when n=', n, ';  the multiplicity is',  Multiplicity(N,n)"
      ],
      "execution_count": null,
      "outputs": [
        {
          "output_type": "stream",
          "text": [
            "type a value for N: 5\n",
            "when n= 0 ;  the multiplicity is 1\n",
            "when n= 1 ;  the multiplicity is 5\n",
            "when n= 2 ;  the multiplicity is 10\n",
            "when n= 3 ;  the multiplicity is 10\n",
            "when n= 4 ;  the multiplicity is 5\n",
            "when n= 5 ;  the multiplicity is 1\n"
          ],
          "name": "stdout"
        }
      ]
    },
    {
      "cell_type": "markdown",
      "metadata": {
        "collapsed": true,
        "id": "3r-Xgc_5WS8G"
      },
      "source": [
        "## Homework\n",
        "### The Einstein Model of a Solid\n",
        "\n",
        "A solid crystal is composed of atoms. Einstein proposed that a model that each atom is pretty much a harmonic oscillator \n",
        "because it is attached by some springs to the adjacent atoms in the crystal lattice.\n",
        "\n",
        "In each oscillator, the energy has quantized separation (0,1,2,.....)\n",
        "Suppose there are only 3 oscillators, the energy could be\n",
        "\n",
        "|Oscillator | 1| 2|\n",
        "|:-----:|:-----:|:-----:|\n",
        "|Energy|0|0|\n",
        "| |1|0|\n",
        "| |0|1|\n",
        "| |1|1|\n",
        "| |2|0|\n",
        "| |0|2|\n",
        "Namely,\n",
        "\n",
        "   When the total energy ($q$) is 0, $\\Omega$=1 \n",
        "\n",
        "   When the total energy ($q$) is 1, $\\Omega$=2 \n",
        "\n",
        "   When the total energy ($q$) is 2, $\\Omega$=3\n",
        "\n",
        "The generalized form is\n",
        " $$\\Omega(N, q) = \\binom{q+N-1}{q} = \\frac{(q+N-1)!}{q!(N-1)!}$$\n",
        " \n",
        " \n",
        "Try to prove this formula and write a code to compute $\\Omega$ for any ($N$, $q$)\n"
      ]
    },
    {
      "cell_type": "code",
      "metadata": {
        "collapsed": true,
        "id": "aK6zD42nWS8G"
      },
      "source": [
        ""
      ],
      "execution_count": null,
      "outputs": []
    }
  ]
}